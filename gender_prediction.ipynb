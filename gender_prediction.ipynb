{
 "cells": [
  {
   "cell_type": "code",
   "execution_count": 60,
   "metadata": {
    "collapsed": true
   },
   "outputs": [],
   "source": [
    "%matplotlib inline\n",
    "import matplotlib.pyplot as plt\n",
    "import sys\n",
    "import scipy.io as sio\n",
    "import os\n",
    "import numpy as np"
   ]
  },
  {
   "cell_type": "markdown",
   "metadata": {},
   "source": [
    "# prepare data into libsvm format"
   ]
  },
  {
   "cell_type": "code",
   "execution_count": 61,
   "metadata": {},
   "outputs": [
    {
     "name": "stdout",
     "output_type": "stream",
     "text": [
      "['demo', '__version__', '__header__', '__globals__']\n"
     ]
    }
   ],
   "source": [
    "label_path = '../bev/'\n",
    "labels_mat = sio.loadmat(os.path.join(label_path,'demo.mat'))\n",
    "print labels_mat.keys()"
   ]
  },
  {
   "cell_type": "code",
   "execution_count": 62,
   "metadata": {
    "collapsed": true
   },
   "outputs": [],
   "source": [
    "class_labels = [0,1]\n",
    "feature_names = []"
   ]
  },
  {
   "cell_type": "code",
   "execution_count": 63,
   "metadata": {},
   "outputs": [
    {
     "name": "stdout",
     "output_type": "stream",
     "text": [
      "(441, 4)\n",
      "20071016_02\n",
      "(1, 1)\n",
      "0\n",
      "440 440\n",
      "0 [u'20071016_02']\n"
     ]
    }
   ],
   "source": [
    "print labels_mat['demo'].shape\n",
    "print str(labels_mat['demo'][2,0][0])\n",
    "print labels_mat['demo'][3,2].shape\n",
    "print labels_mat['demo'][2,2].size\n",
    "ids_tmp = labels_mat['demo'][1:,0]\n",
    "labels_tmp = labels_mat['demo'][1:,2]\n",
    "print ids_tmp.size, labels_tmp.size\n",
    "print labels_tmp[1].size, ids_tmp[1]"
   ]
  },
  {
   "cell_type": "markdown",
   "metadata": {},
   "source": [
    "## read person id and its label"
   ]
  },
  {
   "cell_type": "code",
   "execution_count": 64,
   "metadata": {},
   "outputs": [
    {
     "name": "stdout",
     "output_type": "stream",
     "text": [
      "Total:418, Male:179, Female:239\n"
     ]
    }
   ],
   "source": [
    "labels_dict = {}\n",
    "num_positive = 0\n",
    "num_negative = 0\n",
    "for i in range(ids_tmp.size):\n",
    "    # label of this person is not provided\n",
    "    if labels_tmp[i].size == 0:\n",
    "        continue\n",
    "    label_tmp = 0 if int(labels_tmp[i]) == 2 else 1\n",
    "    if label_tmp == 0:\n",
    "        num_negative += 1\n",
    "    else:\n",
    "        num_positive += 1\n",
    "    labels_dict[str(ids[i][0])] = label_tmp\n",
    "print(\"Total:{}, Male:{}, Female:{}\".format(num_negative+num_positive, num_positive, num_negative))    "
   ]
  },
  {
   "cell_type": "markdown",
   "metadata": {},
   "source": [
    "## Read the features"
   ]
  },
  {
   "cell_type": "code",
   "execution_count": 67,
   "metadata": {},
   "outputs": [
    {
     "name": "stdout",
     "output_type": "stream",
     "text": [
      "20080908_04  is not in  ../4_MRI2atlas_AAL_thr_2hao/\n",
      "20081113_14  is not in  ../4_MRI2atlas_AAL_thr_2hao/\n",
      "20081128_11  is not in  ../4_MRI2atlas_AAL_thr_2hao/\n",
      "20080917_02  is not in  ../4_MRI2atlas_AAL_thr_2hao/\n",
      "20081119_12  is not in  ../4_MRI2atlas_AAL_thr_2hao/\n",
      "20081107_08  is not in  ../4_MRI2atlas_AAL_thr_2hao/\n",
      "20081210_13  is not in  ../4_MRI2atlas_AAL_thr_2hao/\n",
      "20081203_11  is not in  ../4_MRI2atlas_AAL_thr_2hao/\n",
      "20081118_04  is not in  ../4_MRI2atlas_AAL_thr_2hao/\n",
      "20081110_09  is not in  ../4_MRI2atlas_AAL_thr_2hao/\n",
      "20081114_08  is not in  ../4_MRI2atlas_AAL_thr_2hao/\n",
      "20081210_07  is not in  ../4_MRI2atlas_AAL_thr_2hao/\n",
      "20081126_02  is not in  ../4_MRI2atlas_AAL_thr_2hao/\n",
      "20080613_05  is not in  ../4_MRI2atlas_AAL_thr_2hao/\n",
      "20080613_06  is not in  ../4_MRI2atlas_AAL_thr_2hao/\n",
      "20081127_12  is not in  ../4_MRI2atlas_AAL_thr_2hao/\n",
      "n:402, d:6670\n"
     ]
    }
   ],
   "source": [
    "feature_path = '../4_MRI2atlas_AAL_thr_2hao/'\n",
    "features = []\n",
    "labels = []\n",
    "for key in labels_dict:\n",
    "    if os.path.isfile(os.path.join(feature_path, key+'.mat')):\n",
    "        # Load feature mat file\n",
    "        key_mat = sio.loadmat(os.path.join(feature_path, key+'.mat'))\n",
    "        n,n = key_mat['Wauc'].shape\n",
    "        # indices for upper matrix items without the diagonal items         \n",
    "        upper_item_idx = np.triu_indices(n,1)\n",
    "#         features.append(np.triu(key_mat['Wauc']).flatten().tolist())\n",
    "        features.append(key_mat['Wauc'][upper_item_idx].tolist())\n",
    "        labels.append(labels_dict[key])\n",
    "    else:\n",
    "        print key, ' is not in ', feature_path\n",
    "print(\"n:{}, d:{}\".format(len(features), len(features[0])))\n",
    "        "
   ]
  },
  {
   "cell_type": "code",
   "execution_count": 87,
   "metadata": {
    "collapsed": true
   },
   "outputs": [],
   "source": [
    "def print_top_features(clf, top_k=10):\n",
    "    \"\"\"Prints features with the highest coefficient values, per class\"\"\"\n",
    "#     feature_names = vectorizer.get_feature_names()\n",
    "    for i, class_label in enumerate(class_labels):\n",
    "        print clf.coef_\n",
    "        top_features_idx = np.argsort(clf.coef_[i])[-top_k:]\n",
    "        if feature_names == []:\n",
    "            print(\"{}:{}\".format(class_label, top_features_idx))\n",
    "        else:\n",
    "            print(\"%s: %s\" % (class_label,\n",
    "                  \" \".join(feature_names[j] for j in top_features_idx)))"
   ]
  },
  {
   "cell_type": "code",
   "execution_count": 84,
   "metadata": {
    "collapsed": true
   },
   "outputs": [],
   "source": [
    "from sklearn.model_selection import cross_val_score\n",
    "from sklearn.neural_network import MLPClassifier\n",
    "from sklearn.neighbors import KNeighborsClassifier\n",
    "from sklearn.svm import SVC\n",
    "from sklearn.gaussian_process import GaussianProcessClassifier\n",
    "from sklearn.gaussian_process.kernels import RBF\n",
    "from sklearn.tree import DecisionTreeClassifier\n",
    "from sklearn.ensemble import RandomForestClassifier, AdaBoostClassifier\n",
    "from sklearn.naive_bayes import GaussianNB\n",
    "from sklearn.discriminant_analysis import QuadraticDiscriminantAnalysis"
   ]
  },
  {
   "cell_type": "code",
   "execution_count": 85,
   "metadata": {
    "collapsed": true
   },
   "outputs": [],
   "source": [
    "names = [\"Nearest Neighbors\", \"Linear SVM\", \"RBF SVM\", \"Gaussian Process\",\n",
    "         \"Decision Tree\", \"Random Forest\", \"Neural Net\", \"AdaBoost\",\n",
    "         \"Naive Bayes\", \"QDA\"]\n",
    "\n",
    "classifiers = [\n",
    "    KNeighborsClassifier(3),\n",
    "    SVC(kernel=\"linear\", C=0.025),\n",
    "    SVC(gamma=2, C=1),\n",
    "    GaussianProcessClassifier(1.0 * RBF(1.0), warm_start=True),\n",
    "    DecisionTreeClassifier(max_depth=5),\n",
    "    RandomForestClassifier(max_depth=5, n_estimators=10, max_features=1),\n",
    "    MLPClassifier(alpha=1),\n",
    "    AdaBoostClassifier(),\n",
    "    GaussianNB(),\n",
    "    QuadraticDiscriminantAnalysis()]"
   ]
  },
  {
   "cell_type": "code",
   "execution_count": 90,
   "metadata": {},
   "outputs": [
    {
     "name": "stdout",
     "output_type": "stream",
     "text": [
      "Nearest Neighbors, 0.532316768245/0.0445678716444\n",
      "Linear SVM, 0.582103844351/0.00281046506521\n",
      "RBF SVM, 0.606950304735/0.0125466680636\n",
      "Gaussian Process, 0.582103844351/0.00281046506521\n",
      "Decision Tree, 0.59732223785/0.0589088561825\n",
      "Random Forest, 0.601794421003/0.0286115542912\n",
      "Neural Net, 0.649143225504/0.0167230277741\n",
      "AdaBoost, 0.684366307236/0.0301981663765\n",
      "Naive Bayes, 0.604136974527/0.0674858539193\n",
      "QDA, 0.485092983279/0.0398616030277\n"
     ]
    }
   ],
   "source": [
    "# iterate over classifiers\n",
    "for name, clf in zip(names, classifiers):\n",
    "    scores = cross_val_score(clf, features, labels, cv=5)\n",
    "#     if hasattr(clf, 'coef_'):\n",
    "    print(\"{}, {}/{}\".format(name, np.mean(scores), np.std(scores)))\n",
    "#     if name not in [\"Nearest Neighbors\",  \"Linear SVM\", \"RBF SVM\",\"Gaussian Process\", \"Neural Net\"]:\n",
    "#         print_top_features(clf)"
   ]
  },
  {
   "cell_type": "code",
   "execution_count": 92,
   "metadata": {},
   "outputs": [
    {
     "name": "stdout",
     "output_type": "stream",
     "text": [
      "feature max:  0.292096591372  min:  0.0\n"
     ]
    }
   ],
   "source": [
    "print 'feature max: ', np.max(features), ' min: ', np.min(features)"
   ]
  },
  {
   "cell_type": "code",
   "execution_count": 118,
   "metadata": {},
   "outputs": [],
   "source": [
    "def plot_important_features(features, clf, num_selected_features=50):\n",
    "    importances = adaboost_clf.feature_importances_\n",
    "    X = np.array(features)\n",
    "    std = np.std([tree.feature_importances_ for tree in adaboost_clf.estimators_],\n",
    "                 axis=0)\n",
    "    indices = np.argsort(importances)[::-1]\n",
    "\n",
    "    # Print the feature ranking\n",
    "    print(\"Feature ranking:\")\n",
    "\n",
    "    for f in range(0,num_selected_features):\n",
    "        print(\"%d. feature %d (%f)\" % (f + 1, indices[f], importances[indices[f]]))\n",
    "\n",
    "    # Plot the feature importances of the forest\n",
    "    plt.figure()\n",
    "    plt.title(\"Feature importances\")\n",
    "    plt.bar(range(num_selected_features), importances[indices[:num_selected_features]],\n",
    "           color=\"r\", yerr=std[indices[:num_selected_features]], align=\"center\")\n",
    "    plt.xticks(range(num_selected_features), indices[:num_selected_features])\n",
    "    plt.xlim([-1, num_selected_features])\n",
    "    plt.show()"
   ]
  },
  {
   "cell_type": "code",
   "execution_count": 119,
   "metadata": {},
   "outputs": [
    {
     "name": "stdout",
     "output_type": "stream",
     "text": [
      "Feature ranking:\n",
      "1. feature 5810 (0.040000)\n",
      "2. feature 6179 (0.040000)\n",
      "3. feature 4820 (0.040000)\n",
      "4. feature 1354 (0.020000)\n",
      "5. feature 4887 (0.020000)\n",
      "6. feature 6406 (0.020000)\n",
      "7. feature 5781 (0.020000)\n",
      "8. feature 1027 (0.020000)\n",
      "9. feature 202 (0.020000)\n",
      "10. feature 6265 (0.020000)\n",
      "11. feature 4065 (0.020000)\n",
      "12. feature 985 (0.020000)\n",
      "13. feature 6470 (0.020000)\n",
      "14. feature 4825 (0.020000)\n",
      "15. feature 5667 (0.020000)\n",
      "16. feature 663 (0.020000)\n",
      "17. feature 3160 (0.020000)\n",
      "18. feature 1620 (0.020000)\n",
      "19. feature 5784 (0.020000)\n",
      "20. feature 2044 (0.020000)\n",
      "21. feature 4007 (0.020000)\n",
      "22. feature 786 (0.020000)\n",
      "23. feature 6098 (0.020000)\n",
      "24. feature 1507 (0.020000)\n",
      "25. feature 4220 (0.020000)\n",
      "26. feature 1505 (0.020000)\n",
      "27. feature 73 (0.020000)\n",
      "28. feature 5744 (0.020000)\n",
      "29. feature 5743 (0.020000)\n",
      "30. feature 4292 (0.020000)\n",
      "31. feature 6295 (0.020000)\n",
      "32. feature 6655 (0.020000)\n",
      "33. feature 1265 (0.020000)\n",
      "34. feature 971 (0.020000)\n",
      "35. feature 1653 (0.020000)\n",
      "36. feature 732 (0.020000)\n",
      "37. feature 5 (0.020000)\n",
      "38. feature 4659 (0.020000)\n",
      "39. feature 328 (0.020000)\n",
      "40. feature 5503 (0.020000)\n",
      "41. feature 1236 (0.020000)\n",
      "42. feature 5809 (0.020000)\n",
      "43. feature 4054 (0.020000)\n",
      "44. feature 6252 (0.020000)\n",
      "45. feature 4849 (0.020000)\n",
      "46. feature 2604 (0.020000)\n",
      "47. feature 4258 (0.020000)\n",
      "48. feature 2220 (0.000000)\n",
      "49. feature 2197 (0.000000)\n",
      "50. feature 2219 (0.000000)\n"
     ]
    },
    {
     "data": {
      "image/png": "[encoded data removed]",
      "text/plain": [
       "<matplotlib.figure.Figure at 0x117538fd0>"
      ]
     },
     "metadata": {},
     "output_type": "display_data"
    }
   ],
   "source": [
    "\n",
    "adaboost_clf = AdaBoostClassifier()\n",
    "adaboost_clf.fit(features, labels)\n",
    "plot_important_features(features, adaboost_clf, 50)"
   ]
  },
  {
   "cell_type": "markdown",
   "metadata": {},
   "source": [
    "## scale the feature and evaluate the performance of each classifier"
   ]
  },
  {
   "cell_type": "code",
   "execution_count": 91,
   "metadata": {},
   "outputs": [
    {
     "name": "stdout",
     "output_type": "stream",
     "text": [
      "Nearest Neighbors, 0.586948741991/0.0169708066764\n",
      "Linear SVM, 0.58213548992/0.0346908824189\n",
      "RBF SVM, 0.582103844351/0.00281046506521\n",
      "Gaussian Process, 0.582103844351/0.00281046506521\n",
      "Decision Tree, 0.646704172527/0.0509359367612\n",
      "Random Forest, 0.60435693077/0.0267749086117\n",
      "Neural Net, 0.577072198781/0.0392704760787\n",
      "AdaBoost, 0.726621737772/0.0302420426926\n",
      "Naive Bayes, 0.569883184873/0.0238937468921\n",
      "QDA, 0.492748085638/0.0346958687746\n"
     ]
    }
   ],
   "source": [
    "from sklearn.pipeline import make_pipeline\n",
    "from sklearn.preprocessing import StandardScaler\n",
    "# iterate over classifiers\n",
    "for name, clf in zip(names, classifiers):\n",
    "    scores = cross_val_score((make_pipeline(StandardScaler(), clf)), features, labels, cv=5)\n",
    "    print(\"{}, {}/{}\".format(name, np.mean(scores), np.std(scores)))\n",
    "#     if name not in [\"Nearest Neighbors\"]:\n",
    "#         print_top_features(clf)"
   ]
  },
  {
   "cell_type": "code",
   "execution_count": 120,
   "metadata": {},
   "outputs": [
    {
     "name": "stdout",
     "output_type": "stream",
     "text": [
      "Feature ranking:\n",
      "1. feature 5810 (0.040000)\n",
      "2. feature 6179 (0.040000)\n",
      "3. feature 4820 (0.040000)\n",
      "4. feature 1354 (0.020000)\n",
      "5. feature 4887 (0.020000)\n",
      "6. feature 6406 (0.020000)\n",
      "7. feature 5781 (0.020000)\n",
      "8. feature 1027 (0.020000)\n",
      "9. feature 202 (0.020000)\n",
      "10. feature 6265 (0.020000)\n",
      "11. feature 4065 (0.020000)\n",
      "12. feature 985 (0.020000)\n",
      "13. feature 6470 (0.020000)\n",
      "14. feature 4825 (0.020000)\n",
      "15. feature 5667 (0.020000)\n",
      "16. feature 663 (0.020000)\n",
      "17. feature 3160 (0.020000)\n",
      "18. feature 1620 (0.020000)\n",
      "19. feature 5784 (0.020000)\n",
      "20. feature 2044 (0.020000)\n",
      "21. feature 4007 (0.020000)\n",
      "22. feature 786 (0.020000)\n",
      "23. feature 6098 (0.020000)\n",
      "24. feature 1507 (0.020000)\n",
      "25. feature 4220 (0.020000)\n",
      "26. feature 1505 (0.020000)\n",
      "27. feature 73 (0.020000)\n",
      "28. feature 5744 (0.020000)\n",
      "29. feature 5743 (0.020000)\n",
      "30. feature 4292 (0.020000)\n",
      "31. feature 6295 (0.020000)\n",
      "32. feature 6655 (0.020000)\n",
      "33. feature 1265 (0.020000)\n",
      "34. feature 971 (0.020000)\n",
      "35. feature 1653 (0.020000)\n",
      "36. feature 732 (0.020000)\n",
      "37. feature 5 (0.020000)\n",
      "38. feature 4659 (0.020000)\n",
      "39. feature 328 (0.020000)\n",
      "40. feature 5503 (0.020000)\n",
      "41. feature 1236 (0.020000)\n",
      "42. feature 5809 (0.020000)\n",
      "43. feature 4054 (0.020000)\n",
      "44. feature 6252 (0.020000)\n",
      "45. feature 4849 (0.020000)\n",
      "46. feature 2604 (0.020000)\n",
      "47. feature 4258 (0.020000)\n",
      "48. feature 2220 (0.000000)\n",
      "49. feature 2197 (0.000000)\n",
      "50. feature 2219 (0.000000)\n"
     ]
    },
    {
     "data": {
      "image/png": "[encoded data removed]",
      "text/plain": [
       "<matplotlib.figure.Figure at 0x11a8ca1d0>"
      ]
     },
     "metadata": {},
     "output_type": "display_data"
    }
   ],
   "source": [
    "scaled_adaboost_clf = make_pipeline(StandardScaler(), AdaBoostClassifier())\n",
    "scaled_adaboost_clf.fit(features, labels)\n",
    "plot_important_features(features, scaled_adaboost_clf)"
   ]
  },
  {
   "cell_type": "code",
   "execution_count": null,
   "metadata": {
    "collapsed": true
   },
   "outputs": [],
   "source": []
  }
 ],
 "metadata": {
  "kernelspec": {
   "display_name": "Python 2",
   "language": "python",
   "name": "python2"
  },
  "language_info": {
   "codemirror_mode": {
    "name": "ipython",
    "version": 2
   },
   "file_extension": ".py",
   "mimetype": "text/x-python",
   "name": "python",
   "nbconvert_exporter": "python",
   "pygments_lexer": "ipython2",
   "version": "2.7.14"
  }
 },
 "nbformat": 4,
 "nbformat_minor": 2
}
