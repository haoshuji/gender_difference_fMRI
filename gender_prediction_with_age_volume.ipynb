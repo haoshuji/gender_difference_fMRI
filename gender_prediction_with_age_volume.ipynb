{
 "cells": [
  {
   "cell_type": "code",
   "execution_count": 20,
   "metadata": {},
   "outputs": [],
   "source": [
    "%matplotlib inline\n",
    "import matplotlib.pyplot as plt\n",
    "import sys\n",
    "import scipy.io as sio\n",
    "import os\n",
    "import numpy as np"
   ]
  },
  {
   "cell_type": "code",
   "execution_count": 39,
   "metadata": {
    "collapsed": true
   },
   "outputs": [],
   "source": [
    "from sklearn.model_selection import cross_val_score\n",
    "from sklearn.neural_network import MLPClassifier\n",
    "from sklearn.neighbors import KNeighborsClassifier\n",
    "from sklearn.svm import SVC\n",
    "from sklearn.gaussian_process import GaussianProcessClassifier\n",
    "from sklearn.gaussian_process.kernels import RBF\n",
    "from sklearn.tree import DecisionTreeClassifier\n",
    "from sklearn.ensemble import RandomForestClassifier, AdaBoostClassifier\n",
    "from sklearn.naive_bayes import GaussianNB\n",
    "from sklearn.discriminant_analysis import QuadraticDiscriminantAnalysis\n",
    "from sklearn.pipeline import make_pipeline\n",
    "from sklearn.preprocessing import StandardScaler, RobustScaler, Normalizer\n",
    "from sklearn import preprocessing"
   ]
  },
  {
   "cell_type": "code",
   "execution_count": 22,
   "metadata": {
    "collapsed": true
   },
   "outputs": [],
   "source": [
    "clf_names = [\"Nearest Neighbors\", \n",
    "#              \"Linear SVM\", \n",
    "#              \"RBF SVM\", \n",
    "             \"Gaussian Process\",\n",
    "             \"Decision Tree\", \n",
    "             \"Random Forest\", \n",
    "             \"Neural Net\", \n",
    "             \"AdaBoost\",\n",
    "             \"Naive Bayes\", \n",
    "             \"QDA\"]\n",
    "classifiers = [\n",
    "    KNeighborsClassifier(3),\n",
    "#     SVC(kernel=\"linear\", C=0.025),\n",
    "#     SVC(gamma=2, C=1),\n",
    "    GaussianProcessClassifier(1.0 * RBF(1.0), warm_start=True),\n",
    "    DecisionTreeClassifier(max_depth=5),\n",
    "    RandomForestClassifier(max_depth=5, n_estimators=10, max_features=1),\n",
    "    MLPClassifier(alpha=1),\n",
    "    AdaBoostClassifier(),\n",
    "    GaussianNB(),\n",
    "    QuadraticDiscriminantAnalysis()]"
   ]
  },
  {
   "cell_type": "code",
   "execution_count": 23,
   "metadata": {
    "collapsed": true
   },
   "outputs": [],
   "source": [
    "def print_top_features(clf, top_k=10, feature_names = []):\n",
    "    \"\"\"Prints features with the highest coefficient values, per class\"\"\"\n",
    "#     feature_names = vectorizer.get_feature_names()\n",
    "    for i, class_label in enumerate(class_labels):\n",
    "        print clf.coef_\n",
    "        top_features_idx = np.argsort(clf.coef_[i])[-top_k:]\n",
    "        if feature_names == []:\n",
    "            print(\"{}:{}\".format(class_label, top_features_idx))\n",
    "        else:\n",
    "            print(\"%s: %s\" % (class_label,\n",
    "                  \" \".join(feature_names[j] for j in top_features_idx)))"
   ]
  },
  {
   "cell_type": "code",
   "execution_count": 24,
   "metadata": {},
   "outputs": [],
   "source": [
    "def plot_important_features(features, clf, feature_name_list=[], num_selected_features=50):\n",
    "    importances = clf.feature_importances_\n",
    "    X = np.array(features)\n",
    "    std = np.std([tree.feature_importances_ for tree in clf.estimators_],\n",
    "                 axis=0)\n",
    "    indices = np.argsort(importances)[::-1]\n",
    "\n",
    "    # Print the feature ranking\n",
    "    print(\"Feature ranking:\")\n",
    "\n",
    "    for f in range(0,num_selected_features):\n",
    "        if feature_name_list == []:\n",
    "            print(\"%d, (%f)\" % (f + 1, importances[indices[f]]))\n",
    "        else:\n",
    "            print(\"%d. feature %s (%f)\" % (f + 1, feature_name_list[indices[f]], importances[indices[f]]))\n",
    "\n",
    "    # Plot the feature importances of the forest\n",
    "    plt.figure()\n",
    "    plt.title(\"Feature importances\")\n",
    "    plt.bar(range(num_selected_features), importances[indices[:num_selected_features]],\n",
    "           color=\"r\", yerr=std[indices[:num_selected_features]], align=\"center\")\n",
    "    plt.xticks(range(num_selected_features), indices[:num_selected_features])\n",
    "    plt.xlim([-1, num_selected_features])\n",
    "    plt.show()"
   ]
  },
  {
   "cell_type": "code",
   "execution_count": 49,
   "metadata": {
    "collapsed": true
   },
   "outputs": [],
   "source": [
    "def run_experiments(X, Y, feature_name_list=[], top_k=50):\n",
    "    # iterate over classifiers\n",
    "    '''\n",
    "    print('Accuracy of different classifier, without Normalization')\n",
    "    for name, clf in zip(clf_names, classifiers):\n",
    "        scores = cross_val_score(clf, X, Y, cv=5)\n",
    "        print(\"{}, {}/{}\".format(name, np.mean(scores), np.std(scores)))\n",
    "    \n",
    "    adaboost_clf = AdaBoostClassifier()\n",
    "    adaboost_clf.fit(X, Y)\n",
    "    plot_important_features(X, adaboost_clf, feature_name_list, 50)\n",
    "    '''\n",
    "    \n",
    "    print('Accuracy of different classifier, with Normalization')\n",
    "    normalization_methods_name = ['StandardScaler', 'Normalizer']#, 'RobustScaler'\n",
    "    normalization_methods = [StandardScaler(), Normalizer()]#, RobustScaler(),\n",
    "    # iterate over classifiers\n",
    "    for name, clf in zip(clf_names, classifiers):\n",
    "        for norm_name, norm in zip(normalization_methods_name, normalization_methods):\n",
    "            scores = cross_val_score((make_pipeline(norm, clf)), X, Y, cv=5)\n",
    "            print(\"{},{}, {}/{}\".format(name, norm_name, np.mean(scores), np.std(scores)))\n",
    "    \n",
    "    print('Scaled')\n",
    "    X_scaled = preprocessing.scale(X)\n",
    "#     scaled_adaboost_clf = make_pipeline(StandardScaler(), AdaBoostClassifier())\n",
    "    clf = AdaBoostClassifier()\n",
    "    clf.fit(X_scaled, Y)\n",
    "    plot_important_features(X_scaled, clf, feature_name_list, top_k)\n",
    "    \n",
    "    print('Normalization')\n",
    "    X_normalized =  preprocessing.normalize(X, norm='l2')\n",
    "    clf = AdaBoostClassifier()\n",
    "    clf.fit(X_normalized, Y)\n",
    "    plot_important_features(X_normalized, clf, feature_name_list, top_k)"
   ]
  },
  {
   "cell_type": "markdown",
   "metadata": {},
   "source": [
    "# prepare data into libsvm format"
   ]
  },
  {
   "cell_type": "code",
   "execution_count": 26,
   "metadata": {},
   "outputs": [
    {
     "name": "stdout",
     "output_type": "stream",
     "text": [
      "4006 Precentral_L-Precentral_R <type 'list'>\n"
     ]
    }
   ],
   "source": [
    "network_feature_name_file = '../aal_Conns.txt'\n",
    "network_feature_name_list = []\n",
    "with open(network_feature_name_file, 'r') as fin:\n",
    "    network_feature_name_list = fin.read().split(',')\n",
    "print len(network_feature_name_list), network_feature_name_list[0], type(network_feature_name_list)"
   ]
  },
  {
   "cell_type": "code",
   "execution_count": 27,
   "metadata": {},
   "outputs": [
    {
     "name": "stdout",
     "output_type": "stream",
     "text": [
      "(402,) (402,) (402,)\n"
     ]
    }
   ],
   "source": [
    "label_file = '../data/controlAgeVol/gender.mat'\n",
    "labels_mat = sio.loadmat(label_file)\n",
    "key_to_extract = 'gender_withAgelVol'\n",
    "ppl_id = labels_mat[key_to_extract][1:,0]\n",
    "ppl_gender = labels_mat[key_to_extract][1:,1]\n",
    "ppl_age = labels_mat[key_to_extract][1:,2]\n",
    "ppl_whole_brain_volume = labels_mat[key_to_extract][1:,3]\n",
    "print ppl_id.shape, ppl_gender.shape, ppl_age.shape"
   ]
  },
  {
   "cell_type": "markdown",
   "metadata": {},
   "source": [
    "Read label infomation"
   ]
  },
  {
   "cell_type": "code",
   "execution_count": 28,
   "metadata": {},
   "outputs": [
    {
     "name": "stdout",
     "output_type": "stream",
     "text": [
      "Total:402, Male:168, Female:234\n"
     ]
    }
   ],
   "source": [
    "# Read label infomation\n",
    "labels_dict = {}\n",
    "num_positive = 0\n",
    "num_negative = 0\n",
    "for i in range(ppl_id.size):\n",
    "    # label of this person is not provided\n",
    "    if ppl_gender[i].size == 0:\n",
    "        continue\n",
    "    label_tmp = 0 if int(ppl_gender[i]) == 2 else 1\n",
    "    if label_tmp == 0:\n",
    "        num_negative += 1\n",
    "    else:\n",
    "        num_positive += 1\n",
    "    labels_dict[str(ppl_id[i][0])] = label_tmp\n",
    "print(\"Total:{}, Male:{}, Female:{}\".format(num_negative+num_positive, num_positive, num_negative))    "
   ]
  },
  {
   "cell_type": "code",
   "execution_count": 29,
   "metadata": {},
   "outputs": [
    {
     "name": "stdout",
     "output_type": "stream",
     "text": [
      "Length of with age feature: 394\n"
     ]
    }
   ],
   "source": [
    "# Read age feature\n",
    "age_dict = {}\n",
    "for i in range(ppl_id.size):\n",
    "#     print ppl_id[i][0], ppl_age[i]\n",
    "    # skip without age information\n",
    "    if ppl_age[i].size == 0:\n",
    "        continue\n",
    "    age_dict[ppl_id[i][0]] = ppl_age[i][0][0]\n",
    "print('Length of with age feature: {}'.format(len(age_dict.keys())))"
   ]
  },
  {
   "cell_type": "code",
   "execution_count": 30,
   "metadata": {},
   "outputs": [
    {
     "name": "stdout",
     "output_type": "stream",
     "text": [
      "Length of with whole volume feature: 402\n"
     ]
    }
   ],
   "source": [
    "# Read whole volume feature\n",
    "whole_volume_dict = {}\n",
    "for i in range(ppl_id.size):\n",
    "    # skip without age information\n",
    "    if ppl_whole_brain_volume[i].size == 0:\n",
    "        print ppl_id[i][0], ppl_whole_brain_volume[i]\n",
    "        continue\n",
    "    whole_volume_dict[ppl_id[i][0]] = ppl_whole_brain_volume[i][0][0]\n",
    "print('Length of with whole volume feature: {}'.format(len(whole_volume_dict.keys())))"
   ]
  },
  {
   "cell_type": "code",
   "execution_count": 31,
   "metadata": {},
   "outputs": [
    {
     "name": "stdout",
     "output_type": "stream",
     "text": [
      "Length of with network feature::402\n"
     ]
    }
   ],
   "source": [
    "# Read network feature\n",
    "network_dict = {}\n",
    "network_feature_path = '../data/controlAgeVol/network/'\n",
    "for key in ppl_id:\n",
    "    key = key[0]\n",
    "    if os.path.isfile(os.path.join(network_feature_path, key+'.mat')):\n",
    "        # Load feature mat file\n",
    "        key_mat = sio.loadmat(os.path.join(network_feature_path, key+'.mat'))\n",
    "        n,n = key_mat['Wauc'].shape\n",
    "        # indices for upper matrix items without the diagonal items         \n",
    "        upper_item_idx = np.triu_indices(n,1)\n",
    "#         features.append(np.triu(key_mat['Wauc']).flatten().tolist())\n",
    "        network_dict[key] = key_mat['Wauc'][upper_item_idx].tolist()        \n",
    "    else:\n",
    "        print key, ' is not in ', network_feature_path\n",
    "print(\"Length of with network feature::{}\".format(len(network_dict.keys())))"
   ]
  },
  {
   "cell_type": "code",
   "execution_count": 32,
   "metadata": {},
   "outputs": [
    {
     "name": "stdout",
     "output_type": "stream",
     "text": [
      "Length of with volume feature::402\n"
     ]
    }
   ],
   "source": [
    "# Read volume feature\n",
    "volume_dict = {}\n",
    "volume_path = '../data/controlAgeVol/volume/'\n",
    "for key in ppl_id:\n",
    "    key = key[0]\n",
    "    if os.path.isfile(os.path.join(volume_path, key+'.mat')):\n",
    "        # Load feature mat file\n",
    "        key_mat = sio.loadmat(os.path.join(volume_path, key+'.mat'))\n",
    "#         print key_mat.keys(), key_mat['mri2atlas'].shape\n",
    "        n,n = key_mat['mri2atlas'].shape\n",
    "        # features.append(np.triu(key_mat['Wauc']).flatten().tolist())\n",
    "        volume_dict[key] = key_mat['mri2atlas'].tolist()        \n",
    "    else:\n",
    "        print key, ' is not in ', volume_path\n",
    "print(\"Length of with volume feature::{}\".format(len(volume_dict.keys())))"
   ]
  },
  {
   "cell_type": "code",
   "execution_count": 33,
   "metadata": {},
   "outputs": [
    {
     "name": "stdout",
     "output_type": "stream",
     "text": [
      "Number of shared ppl:394 \n",
      "394 (394, 4005) (394,) (394,)\n",
      "(394,) (394, 4007)\n"
     ]
    }
   ],
   "source": [
    "# Experiment with network, age, whole brain volume as features, gender as label\n",
    "shared_ppl_ids = []\n",
    "for ppl in labels_dict:\n",
    "    if ppl in network_dict and ppl in age_dict and ppl in whole_volume_dict:\n",
    "        shared_ppl_ids.append(ppl)\n",
    "print(\"Number of shared ppl:{} \".format(len(shared_ppl_ids)))\n",
    "\n",
    "Y1 = np.array([labels_dict[ppl] for ppl in shared_ppl_ids])\n",
    "network_X = np.array([network_dict[ppl] for ppl in shared_ppl_ids])\n",
    "age_X = np.array([age_dict[ppl] for ppl in shared_ppl_ids])\n",
    "whole_volume_X = np.array([whole_volume_dict[ppl] for ppl in shared_ppl_ids])\n",
    "print len(Y), network_X.shape, age_X.shape, whole_volume_X.shape\n",
    "X1 = np.column_stack((network_X, age_X, whole_volume_X))\n",
    "print Y1.shape, X1.shape\n",
    "\n",
    "# build feature names\n",
    "feature_name_list1 = list(network_feature_name_list)\n",
    "feature_name_list1.append('age')\n",
    "feature_name_list1.append('whole_volume')"
   ]
  },
  {
   "cell_type": "code",
   "execution_count": 45,
   "metadata": {},
   "outputs": [
    {
     "name": "stdout",
     "output_type": "stream",
     "text": [
      "Number of shared ppl:394 \n",
      "394 (394, 90, 1) (394,) (394,)\n",
      "(394,) (394, 92)\n"
     ]
    }
   ],
   "source": [
    "# Experiment with network, age, whole brain volume as features, gender as label\n",
    "shared_ppl_ids = []\n",
    "for ppl in labels_dict:\n",
    "    if ppl in volume_dict and ppl in age_dict and ppl in whole_volume_dict:\n",
    "        shared_ppl_ids.append(ppl)\n",
    "print(\"Number of shared ppl:{} \".format(len(shared_ppl_ids)))\n",
    "\n",
    "Y2 = np.array([labels_dict[ppl] for ppl in shared_ppl_ids])\n",
    "# network_X = np.array([network_dict[ppl] for ppl in shared_ppl_ids])\n",
    "volume_X = np.array([volume_dict[ppl] for ppl in shared_ppl_ids])\n",
    "age_X = np.array([age_dict[ppl] for ppl in shared_ppl_ids])\n",
    "whole_volume_X = np.array([whole_volume_dict[ppl] for ppl in shared_ppl_ids])\n",
    "print len(Y2), volume_X.shape, age_X.shape, whole_volume_X.shape\n",
    "X2 = np.column_stack((volume_X.reshape(Y2.shape[0],-1), age_X, whole_volume_X))\n",
    "print Y2.shape, X2.shape\n",
    "\n",
    "# build feature names\n",
    "feature_name_list2 = list([str(each) for each in range(volume_X.shape[0])])\n",
    "feature_name_list2.append('age')\n",
    "feature_name_list2.append('whole_volume')"
   ]
  },
  {
   "cell_type": "code",
   "execution_count": 50,
   "metadata": {},
   "outputs": [
    {
     "name": "stdout",
     "output_type": "stream",
     "text": [
      "Accuracy of different classifier, with Normalization\n",
      "Nearest Neighbors,StandardScaler, 0.59123661149/0.0432896981435\n",
      "Nearest Neighbors,Normalizer, 0.654819863681/0.0666831301588\n",
      "Gaussian Process,StandardScaler, 0.583771502759/0.00298604349237\n",
      "Gaussian Process,Normalizer, 0.583771502759/0.00298604349237\n",
      "Decision Tree,StandardScaler, 0.672314183707/0.0583105420527\n",
      "Decision Tree,Normalizer, 0.685329438494/0.0445051558142\n",
      "Random Forest,StandardScaler, 0.60405712431/0.0324047616061\n",
      "Random Forest,Normalizer, 0.583771502759/0.00298604349237\n",
      "Neural Net,StandardScaler, 0.621454073353/0.0848753570729\n",
      "Neural Net,Normalizer, 0.583771502759/0.00298604349237\n",
      "AdaBoost,StandardScaler, 0.763842908147/0.0247930650832\n",
      "AdaBoost,Normalizer, 0.682700421941/0.0462521168137\n",
      "Naive Bayes,StandardScaler, 0.519993508601/0.0800932092568\n",
      "Naive Bayes,Normalizer, 0.558227848101/0.0397073092186\n",
      "QDA,StandardScaler, 0.505095748134/0.0450090400604\n",
      "QDA,Normalizer, 0.487244401168/0.0420417192276\n",
      "Scaled\n",
      "Feature ranking:\n",
      "1. feature age (0.120000)\n",
      "2. feature Cingulum_Post_R-Caudate_R (0.040000)\n",
      "3. feature Caudate_R-Thalamus_R (0.040000)\n",
      "4. feature Frontal_Mid_R-Thalamus_L (0.040000)\n",
      "5. feature Pallidum_L-Thalamus_L (0.040000)\n",
      "6. feature Occipital_Inf_R-Caudate_R (0.040000)\n",
      "7. feature Thalamus_R-Temporal_Inf_R (0.020000)\n",
      "8. feature Lingual_L-Precuneus_R (0.020000)\n",
      "9. feature Frontal_Sup_R-Cingulum_Mid_L (0.020000)\n",
      "10. feature Frontal_Sup_Medial_L-Parietal_Inf_L (0.020000)\n",
      "11. feature Caudate_R-Pallidum_L (0.020000)\n",
      "12. feature Frontal_Inf_Oper_L-Frontal_Inf_Tri_R (0.020000)\n",
      "13. feature Calcarine_L-Lingual_R (0.020000)\n",
      "14. feature Rolandic_Oper_L-Occipital_Inf_R (0.020000)\n",
      "15. feature Amygdala_L-Temporal_Mid_L (0.020000)\n",
      "16. feature Cingulum_Mid_L-Temporal_Pole_Sup_R (0.020000)\n",
      "17. feature Precentral_L-Occipital_Mid_L (0.020000)\n",
      "18. feature Occipital_Sup_R-Precuneus_R (0.020000)\n",
      "19. feature Frontal_Mid_Orb_L-Cingulum_Post_L (0.020000)\n",
      "20. feature Frontal_Mid_Orb_L-Fusiform_L (0.020000)\n",
      "21. feature Frontal_Mid_Orb_R-Parietal_Sup_R (0.020000)\n",
      "22. feature Frontal_Mid_Orb_L-Cingulum_Ant_L (0.020000)\n",
      "23. feature Frontal_Sup_R-Fusiform_L (0.020000)\n",
      "24. feature Fusiform_L-Temporal_Mid_L (0.020000)\n",
      "25. feature Frontal_Inf_Tri_L-Thalamus_R (0.020000)\n",
      "26. feature Cingulum_Mid_R-Hippocampus_R (0.020000)\n",
      "27. feature Precentral_R-Temporal_Inf_L (0.020000)\n",
      "28. feature Rectus_L-Putamen_R (0.020000)\n",
      "29. feature Frontal_Med_Orb_L-ParaHippocampal_R (0.020000)\n",
      "30. feature ParaHippocampal_L-Thalamus_R (0.020000)\n",
      "31. feature Precentral_R-Occipital_Mid_L (0.020000)\n",
      "32. feature Frontal_Inf_Tri_L-Frontal_Inf_Orb_L (0.020000)\n",
      "33. feature Frontal_Mid_Orb_L-Caudate_L (0.020000)\n",
      "34. feature Frontal_Sup_Orb_R-Putamen_L (0.020000)\n",
      "35. feature Amygdala_R-Fusiform_L (0.020000)\n",
      "36. feature Frontal_Mid_L-Frontal_Inf_Orb_L (0.020000)\n",
      "37. feature Lingual_R-Temporal_Pole_Sup_L (0.020000)\n",
      "38. feature Postcentral_L-Temporal_Mid_L (0.020000)\n",
      "39. feature Frontal_Sup_Orb_R-Frontal_Mid_R (0.020000)\n",
      "40. feature Frontal_Inf_Orb_R-Frontal_Sup_Medial_L (0.020000)\n",
      "41. feature Rolandic_Oper_L-Fusiform_R (0.000000)\n",
      "42. feature Rolandic_Oper_L-Pallidum_L (0.000000)\n",
      "43. feature Rolandic_Oper_L-Cuneus_R (0.000000)\n",
      "44. feature Rolandic_Oper_L-Cuneus_L (0.000000)\n",
      "45. feature Rolandic_Oper_L-Putamen_L (0.000000)\n",
      "46. feature Rolandic_Oper_L-Putamen_R (0.000000)\n",
      "47. feature Rolandic_Oper_L-Calcarine_R (0.000000)\n",
      "48. feature Rolandic_Oper_L-Calcarine_L (0.000000)\n",
      "49. feature Rolandic_Oper_L-Amygdala_R (0.000000)\n",
      "50. feature Rolandic_Oper_L-Amygdala_L (0.000000)\n"
     ]
    },
    {
     "data": {
      "image/png": "[encoded data removed]",
      "text/plain": [
       "<matplotlib.figure.Figure at 0x7f50f2edfdd0>"
      ]
     },
     "metadata": {},
     "output_type": "display_data"
    },
    {
     "name": "stdout",
     "output_type": "stream",
     "text": [
      "Normalization\n",
      "Feature ranking:\n",
      "1. feature  (0.160000)\n",
      "2. feature Postcentral_R-Angular_R (0.020000)\n",
      "3. feature Rectus_R-SupraMarginal_R (0.020000)\n",
      "4. feature Precentral_R-Calcarine_L (0.020000)\n",
      "5. feature Frontal_Sup_Orb_L-Occipital_Inf_R (0.020000)\n",
      "6. feature Rolandic_Oper_R-Frontal_Med_Orb_L (0.020000)\n",
      "7. feature Rolandic_Oper_R-Frontal_Med_Orb_R (0.020000)\n",
      "8. feature Calcarine_L-Occipital_Sup_R (0.020000)\n",
      "9. feature Calcarine_L-Occipital_Inf_L (0.020000)\n",
      "10. feature Calcarine_L-Angular_L (0.020000)\n",
      "11. feature Putamen_L-Temporal_Mid_R (0.020000)\n",
      "12. feature Lingual_L-Angular_R (0.020000)\n",
      "13. feature Frontal_Med_Orb_L-Precuneus_L (0.020000)\n",
      "14. feature Supp_Motor_Area_R-Angular_L (0.020000)\n",
      "15. feature Cingulum_Mid_R-Occipital_Mid_R (0.020000)\n",
      "16. feature Fusiform_R-Parietal_Inf_L (0.020000)\n",
      "17. feature Cuneus_R-Temporal_Sup_R (0.020000)\n",
      "18. feature Calcarine_R-Occipital_Inf_L (0.020000)\n",
      "19. feature Frontal_Sup_Orb_L-Occipital_Mid_L (0.020000)\n",
      "20. feature Cingulum_Mid_L-Lingual_R (0.020000)\n",
      "21. feature Frontal_Sup_Orb_R-Occipital_Mid_L (0.020000)\n",
      "22. feature Frontal_Sup_Medial_R-Precuneus_L (0.020000)\n",
      "23. feature Frontal_Mid_Orb_L-Angular_L (0.020000)\n",
      "24. feature Cingulum_Ant_L-Putamen_L (0.020000)\n",
      "25. feature Angular_R-Precuneus_R (0.020000)\n",
      "26. feature Angular_L-Temporal_Inf_L (0.020000)\n",
      "27. feature Cingulum_Ant_L-Temporal_Pole_Mid_L (0.020000)\n",
      "28. feature Occipital_Sup_R-Angular_R (0.020000)\n",
      "29. feature Angular_L-Paracentral_Lobule_L (0.020000)\n",
      "30. feature Frontal_Mid_Orb_R-Occipital_Inf_R (0.020000)\n",
      "31. feature Rolandic_Oper_L-Frontal_Med_Orb_L (0.020000)\n",
      "32. feature Cingulum_Ant_R-Occipital_Inf_L (0.020000)\n",
      "33. feature Cingulum_Ant_R-Fusiform_L (0.020000)\n",
      "34. feature SupraMarginal_R-Temporal_Sup_L (0.020000)\n",
      "35. feature Cingulum_Ant_R-Putamen_R (0.020000)\n",
      "36. feature Rolandic_Oper_L-Occipital_Inf_L (0.020000)\n",
      "37. feature Rolandic_Oper_L-Precuneus_L (0.020000)\n",
      "38. feature Calcarine_R-Paracentral_Lobule_R (0.020000)\n",
      "39. feature Precentral_R-Lingual_L (0.020000)\n",
      "40. feature Supp_Motor_Area_L-Cingulum_Mid_L (0.020000)\n",
      "41. feature Postcentral_L-Paracentral_Lobule_L (0.020000)\n",
      "42. feature Cuneus_R-Occipital_Sup_L (0.020000)\n",
      "43. feature Rectus_L-Parietal_Inf_R (0.020000)\n",
      "44. feature Rolandic_Oper_L-ParaHippocampal_R (0.000000)\n",
      "45. feature Rolandic_Oper_L-ParaHippocampal_L (0.000000)\n",
      "46. feature Rolandic_Oper_L-Hippocampus_R (0.000000)\n",
      "47. feature Rolandic_Oper_L-Hippocampus_L (0.000000)\n",
      "48. feature Rolandic_Oper_L-Cingulum_Post_R (0.000000)\n",
      "49. feature Rolandic_Oper_L-Cingulum_Post_L (0.000000)\n",
      "50. feature Rolandic_Oper_L-Cingulum_Mid_R (0.000000)\n"
     ]
    },
    {
     "data": {
      "image/png": "[encoded data removed]",
      "text/plain": [
       "<matplotlib.figure.Figure at 0x7f50f2a16890>"
      ]
     },
     "metadata": {},
     "output_type": "display_data"
    }
   ],
   "source": [
    "run_experiments(X1, Y1, feature_name_list1)"
   ]
  },
  {
   "cell_type": "code",
   "execution_count": 51,
   "metadata": {},
   "outputs": [
    {
     "name": "stdout",
     "output_type": "stream",
     "text": [
      "Accuracy of different classifier, with Normalization\n",
      "Nearest Neighbors,StandardScaler, 0.710483609218/0.058457561029\n",
      "Nearest Neighbors,Normalizer, 0.682635507952/0.0267067227089\n",
      "Gaussian Process,StandardScaler, 0.705452775073/0.0581525730327\n",
      "Gaussian Process,Normalizer, 0.583771502759/0.00298604349237\n",
      "Decision Tree,StandardScaler, 0.725835767608/0.0212531611839\n",
      "Decision Tree,Normalizer, 0.692827004219/0.0467117384071\n",
      "Random Forest,StandardScaler, 0.753683868874/0.0529206691714\n",
      "Random Forest,Normalizer, 0.583771502759/0.00298604349237\n",
      "Neural Net,StandardScaler, 0.834923726063/0.0580802839297\n",
      "Neural Net,Normalizer, 0.583771502759/0.00298604349237\n",
      "AdaBoost,StandardScaler, 0.78653034729/0.0645789471204\n",
      "AdaBoost,Normalizer, 0.685134696527/0.0512724365368\n",
      "Naive Bayes,StandardScaler, 0.743557286595/0.0440392978111\n",
      "Naive Bayes,Normalizer, 0.774066861409/0.020747205498\n",
      "QDA,StandardScaler, 0.60159039273/0.0192188166861\n",
      "QDA,Normalizer, 0.586303148328/0.0186401511161\n",
      "Scaled\n",
      "Feature ranking:\n",
      "1. feature 55 (0.060000)\n",
      "2. feature 47 (0.060000)\n",
      "3. feature 31 (0.040000)\n",
      "4. feature 75 (0.040000)\n",
      "5. feature 57 (0.040000)\n",
      "6. feature 90 (0.040000)\n",
      "7. feature 70 (0.040000)\n",
      "8. feature 35 (0.040000)\n",
      "9. feature 59 (0.040000)\n",
      "10. feature 12 (0.040000)\n",
      "11. feature 5 (0.040000)\n",
      "12. feature 6 (0.040000)\n",
      "13. feature 13 (0.020000)\n",
      "14. feature 39 (0.020000)\n",
      "15. feature 1 (0.020000)\n",
      "16. feature 56 (0.020000)\n",
      "17. feature 3 (0.020000)\n",
      "18. feature 53 (0.020000)\n",
      "19. feature 49 (0.020000)\n",
      "20. feature 8 (0.020000)\n",
      "21. feature 9 (0.020000)\n",
      "22. feature 18 (0.020000)\n",
      "23. feature 34 (0.020000)\n",
      "24. feature 32 (0.020000)\n",
      "25. feature 60 (0.020000)\n",
      "26. feature 28 (0.020000)\n",
      "27. feature 23 (0.020000)\n",
      "28. feature 21 (0.020000)\n",
      "29. feature 20 (0.020000)\n",
      "30. feature 91 (0.020000)\n",
      "31. feature 0 (0.020000)\n",
      "32. feature 69 (0.020000)\n",
      "33. feature 63 (0.020000)\n",
      "34. feature 78 (0.020000)\n",
      "35. feature 71 (0.020000)\n",
      "36. feature 80 (0.020000)\n",
      "37. feature 61 (0.000000)\n",
      "38. feature 19 (0.000000)\n",
      "39. feature 16 (0.000000)\n",
      "40. feature 17 (0.000000)\n",
      "41. feature 81 (0.000000)\n",
      "42. feature 79 (0.000000)\n",
      "43. feature 14 (0.000000)\n",
      "44. feature 22 (0.000000)\n",
      "45. feature 24 (0.000000)\n",
      "46. feature 25 (0.000000)\n",
      "47. feature 26 (0.000000)\n",
      "48. feature 15 (0.000000)\n",
      "49. feature 82 (0.000000)\n",
      "50. feature 77 (0.000000)\n"
     ]
    },
    {
     "data": {
      "image/png": "[encoded data removed]",
      "text/plain": [
       "<matplotlib.figure.Figure at 0x7f50f2a16390>"
      ]
     },
     "metadata": {},
     "output_type": "display_data"
    },
    {
     "name": "stdout",
     "output_type": "stream",
     "text": [
      "Normalization\n",
      "Feature ranking:\n",
      "1. feature 90 (0.980000)\n",
      "2. feature 82 (0.020000)\n",
      "3. feature 33 (0.000000)\n",
      "4. feature 24 (0.000000)\n",
      "5. feature 25 (0.000000)\n",
      "6. feature 26 (0.000000)\n",
      "7. feature 27 (0.000000)\n",
      "8. feature 28 (0.000000)\n",
      "9. feature 29 (0.000000)\n",
      "10. feature 30 (0.000000)\n",
      "11. feature 31 (0.000000)\n",
      "12. feature 32 (0.000000)\n",
      "13. feature 34 (0.000000)\n",
      "14. feature 22 (0.000000)\n",
      "15. feature 35 (0.000000)\n",
      "16. feature 36 (0.000000)\n",
      "17. feature 37 (0.000000)\n",
      "18. feature 38 (0.000000)\n",
      "19. feature 39 (0.000000)\n",
      "20. feature 40 (0.000000)\n",
      "21. feature 41 (0.000000)\n",
      "22. feature 42 (0.000000)\n",
      "23. feature 43 (0.000000)\n",
      "24. feature 23 (0.000000)\n",
      "25. feature 91 (0.000000)\n",
      "26. feature 44 (0.000000)\n",
      "27. feature 20 (0.000000)\n",
      "28. feature 1 (0.000000)\n",
      "29. feature 2 (0.000000)\n",
      "30. feature 3 (0.000000)\n",
      "31. feature 4 (0.000000)\n",
      "32. feature 5 (0.000000)\n",
      "33. feature 6 (0.000000)\n",
      "34. feature 7 (0.000000)\n",
      "35. feature 8 (0.000000)\n",
      "36. feature 9 (0.000000)\n",
      "37. feature 10 (0.000000)\n",
      "38. feature 11 (0.000000)\n",
      "39. feature 12 (0.000000)\n",
      "40. feature 13 (0.000000)\n",
      "41. feature 14 (0.000000)\n",
      "42. feature 15 (0.000000)\n",
      "43. feature 16 (0.000000)\n",
      "44. feature 17 (0.000000)\n",
      "45. feature 18 (0.000000)\n",
      "46. feature 19 (0.000000)\n",
      "47. feature 21 (0.000000)\n",
      "48. feature 45 (0.000000)\n",
      "49. feature 46 (0.000000)\n",
      "50. feature 47 (0.000000)\n"
     ]
    },
    {
     "data": {
      "image/png": "[encoded data removed]",
      "text/plain": [
       "<matplotlib.figure.Figure at 0x7f50f2fbd290>"
      ]
     },
     "metadata": {},
     "output_type": "display_data"
    }
   ],
   "source": [
    "run_experiments(X2, Y2, feature_name_list2)"
   ]
  },
  {
   "cell_type": "code",
   "execution_count": null,
   "metadata": {
    "collapsed": true
   },
   "outputs": [],
   "source": []
  }
 ],
 "metadata": {
  "kernelspec": {
   "display_name": "Python 2",
   "language": "python",
   "name": "python2"
  },
  "language_info": {
   "codemirror_mode": {
    "name": "ipython",
    "version": 2
   },
   "file_extension": ".py",
   "mimetype": "text/x-python",
   "name": "python",
   "nbconvert_exporter": "python",
   "pygments_lexer": "ipython2",
   "version": "2.7.12"
  }
 },
 "nbformat": 4,
 "nbformat_minor": 2
}
