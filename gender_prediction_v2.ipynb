{
 "cells": [
  {
   "cell_type": "code",
   "execution_count": 20,
   "metadata": {
    "collapsed": true
   },
   "outputs": [],
   "source": [
    "%matplotlib inline\n",
    "import matplotlib.pyplot as plt\n",
    "import sys\n",
    "import scipy.io as sio\n",
    "import os\n",
    "import numpy as np\n",
    "from sklearn.model_selection import cross_val_score\n",
    "from sklearn.neural_network import MLPClassifier\n",
    "from sklearn.neighbors import KNeighborsClassifier\n",
    "from sklearn.svm import SVC\n",
    "from sklearn.gaussian_process import GaussianProcessClassifier\n",
    "from sklearn.gaussian_process.kernels import RBF\n",
    "from sklearn.tree import DecisionTreeClassifier\n",
    "from sklearn.ensemble import RandomForestClassifier, AdaBoostClassifier\n",
    "from sklearn.naive_bayes import GaussianNB\n",
    "from sklearn.discriminant_analysis import QuadraticDiscriminantAnalysis\n",
    "from sklearn.pipeline import make_pipeline\n",
    "from sklearn.preprocessing import StandardScaler, RobustScaler, Normalizer\n",
    "from sklearn import preprocessing"
   ]
  },
  {
   "cell_type": "code",
   "execution_count": 23,
   "metadata": {
    "collapsed": true
   },
   "outputs": [],
   "source": [
    "def print_top_features(clf, top_k=10, feature_names = []):\n",
    "    \"\"\"Prints features with the highest coefficient values, per class\"\"\"\n",
    "#     feature_names = vectorizer.get_feature_names()\n",
    "    for i, class_label in enumerate(class_labels):\n",
    "        print clf.coef_\n",
    "        top_features_idx = np.argsort(clf.coef_[i])[-top_k:]\n",
    "        if feature_names == []:\n",
    "            print(\"{}:{}\".format(class_label, top_features_idx))\n",
    "        else:\n",
    "            print(\"%s: %s\" % (class_label,\n",
    "                  \" \".join(feature_names[j] for j in top_features_idx)))"
   ]
  },
  {
   "cell_type": "code",
   "execution_count": 24,
   "metadata": {
    "collapsed": true
   },
   "outputs": [],
   "source": [
    "def plot_important_features(features, clf, feature_name_list=[], num_selected_features=50):\n",
    "    importances = clf.feature_importances_\n",
    "    X = np.array(features)\n",
    "    std = np.std([tree.feature_importances_ for tree in clf.estimators_],\n",
    "                 axis=0)\n",
    "    indices = np.argsort(importances)[::-1]\n",
    "\n",
    "    # Print the feature ranking\n",
    "    print(\"Feature ranking:\")\n",
    "\n",
    "    for f in range(0,num_selected_features):\n",
    "        if feature_name_list == []:\n",
    "            print(\"%d, (%f)\" % (f + 1, importances[indices[f]]))\n",
    "        else:\n",
    "            print(\"%d. feature %s (%f)\" % (f + 1, feature_name_list[indices[f]], importances[indices[f]]))\n",
    "\n",
    "    # Plot the feature importances of the forest\n",
    "    plt.figure()\n",
    "    plt.title(\"Feature importances\")\n",
    "    plt.bar(range(num_selected_features), importances[indices[:num_selected_features]],\n",
    "           color=\"r\", yerr=std[indices[:num_selected_features]], align=\"center\")\n",
    "    plt.xticks(range(num_selected_features), indices[:num_selected_features])\n",
    "    plt.xlim([-1, num_selected_features])\n",
    "    plt.show()"
   ]
  },
  {
   "cell_type": "code",
   "execution_count": 49,
   "metadata": {
    "collapsed": true
   },
   "outputs": [],
   "source": [
    "def run_experiments(X, Y, feature_name_list=[], top_k=50):\n",
    "    # iterate over classifiers\n",
    "    '''\n",
    "    print('Accuracy of different classifier, without Normalization')\n",
    "    for name, clf in zip(clf_names, classifiers):\n",
    "        scores = cross_val_score(clf, X, Y, cv=5)\n",
    "        print(\"{}, {}/{}\".format(name, np.mean(scores), np.std(scores)))\n",
    "    \n",
    "    adaboost_clf = AdaBoostClassifier()\n",
    "    adaboost_clf.fit(X, Y)\n",
    "    plot_important_features(X, adaboost_clf, feature_name_list, 50)\n",
    "    '''\n",
    "    \n",
    "    print('Accuracy of different classifier, with Normalization')\n",
    "    normalization_methods_name = ['StandardScaler', 'Normalizer']#, 'RobustScaler'\n",
    "    normalization_methods = [StandardScaler(), Normalizer()]#, RobustScaler(),\n",
    "    # iterate over classifiers\n",
    "    for name, clf in zip(clf_names, classifiers):\n",
    "        for norm_name, norm in zip(normalization_methods_name, normalization_methods):\n",
    "            scores = cross_val_score((make_pipeline(norm, clf)), X, Y, cv=5)\n",
    "            print(\"{},{}, {}/{}\".format(name, norm_name, np.mean(scores), np.std(scores)))\n",
    "    \n",
    "    print('Scaled')\n",
    "    X_scaled = preprocessing.scale(X)\n",
    "#     scaled_adaboost_clf = make_pipeline(StandardScaler(), AdaBoostClassifier())\n",
    "    clf = AdaBoostClassifier()\n",
    "    clf.fit(X_scaled, Y)\n",
    "    plot_important_features(X_scaled, clf, feature_name_list, top_k)\n",
    "    \n",
    "    print('Normalization')\n",
    "    X_normalized =  preprocessing.normalize(X, norm='l2')\n",
    "    clf = AdaBoostClassifier()\n",
    "    clf.fit(X_normalized, Y)\n",
    "    plot_important_features(X_normalized, clf, feature_name_list, top_k)"
   ]
  },
  {
   "cell_type": "markdown",
   "metadata": {},
   "source": [
    "# prepare data into libsvm format"
   ]
  },
  {
   "cell_type": "code",
   "execution_count": null,
   "metadata": {
    "collapsed": true
   },
   "outputs": [],
   "source": [
    "import numpy as np\n",
    "import pandas as pd\n",
    "\n",
    "input_file = \"mydata.csv\"\n",
    "\n",
    "# comma delimited is the default\n",
    "df = pd.read_csv(input_file, header = 0)\n",
    "\n",
    "# put the original column names in a python list\n",
    "original_headers = list(df.columns.values)\n",
    "feature_name_list = original_headers[1:]\n",
    "'''\n",
    "# remove the non-numeric columns\n",
    "df = df._get_numeric_data()\n",
    "\n",
    "# put the numeric column names in a python list\n",
    "numeric_headers = list(df.columns.values)\n",
    "'''\n",
    "\n",
    "# create a numpy array with the numeric values for input into scikit-learn\n",
    "numpy_array = df.as_matrix()\n",
    "\n",
    "X = numpy_array[:,0]\n",
    "Y = numpy_array[:,1:]"
   ]
  },
  {
   "cell_type": "code",
   "execution_count": 50,
   "metadata": {},
   "outputs": [
    {
     "name": "stdout",
     "output_type": "stream",
     "text": [
      "Accuracy of different classifier, with Normalization\n",
      "Nearest Neighbors,StandardScaler, 0.59123661149/0.0432896981435\n",
      "Nearest Neighbors,Normalizer, 0.654819863681/0.0666831301588\n",
      "Gaussian Process,StandardScaler, 0.583771502759/0.00298604349237\n",
      "Gaussian Process,Normalizer, 0.583771502759/0.00298604349237\n",
      "Decision Tree,StandardScaler, 0.672314183707/0.0583105420527\n",
      "Decision Tree,Normalizer, 0.685329438494/0.0445051558142\n",
      "Random Forest,StandardScaler, 0.60405712431/0.0324047616061\n",
      "Random Forest,Normalizer, 0.583771502759/0.00298604349237\n",
      "Neural Net,StandardScaler, 0.621454073353/0.0848753570729\n",
      "Neural Net,Normalizer, 0.583771502759/0.00298604349237\n",
      "AdaBoost,StandardScaler, 0.763842908147/0.0247930650832\n",
      "AdaBoost,Normalizer, 0.682700421941/0.0462521168137\n",
      "Naive Bayes,StandardScaler, 0.519993508601/0.0800932092568\n",
      "Naive Bayes,Normalizer, 0.558227848101/0.0397073092186\n",
      "QDA,StandardScaler, 0.505095748134/0.0450090400604\n",
      "QDA,Normalizer, 0.487244401168/0.0420417192276\n",
      "Scaled\n",
      "Feature ranking:\n",
      "1. feature age (0.120000)\n",
      "2. feature Cingulum_Post_R-Caudate_R (0.040000)\n",
      "3. feature Caudate_R-Thalamus_R (0.040000)\n",
      "4. feature Frontal_Mid_R-Thalamus_L (0.040000)\n",
      "5. feature Pallidum_L-Thalamus_L (0.040000)\n",
      "6. feature Occipital_Inf_R-Caudate_R (0.040000)\n",
      "7. feature Thalamus_R-Temporal_Inf_R (0.020000)\n",
      "8. feature Lingual_L-Precuneus_R (0.020000)\n",
      "9. feature Frontal_Sup_R-Cingulum_Mid_L (0.020000)\n",
      "10. feature Frontal_Sup_Medial_L-Parietal_Inf_L (0.020000)\n",
      "11. feature Caudate_R-Pallidum_L (0.020000)\n",
      "12. feature Frontal_Inf_Oper_L-Frontal_Inf_Tri_R (0.020000)\n",
      "13. feature Calcarine_L-Lingual_R (0.020000)\n",
      "14. feature Rolandic_Oper_L-Occipital_Inf_R (0.020000)\n",
      "15. feature Amygdala_L-Temporal_Mid_L (0.020000)\n",
      "16. feature Cingulum_Mid_L-Temporal_Pole_Sup_R (0.020000)\n",
      "17. feature Precentral_L-Occipital_Mid_L (0.020000)\n",
      "18. feature Occipital_Sup_R-Precuneus_R (0.020000)\n",
      "19. feature Frontal_Mid_Orb_L-Cingulum_Post_L (0.020000)\n",
      "20. feature Frontal_Mid_Orb_L-Fusiform_L (0.020000)\n",
      "21. feature Frontal_Mid_Orb_R-Parietal_Sup_R (0.020000)\n",
      "22. feature Frontal_Mid_Orb_L-Cingulum_Ant_L (0.020000)\n",
      "23. feature Frontal_Sup_R-Fusiform_L (0.020000)\n",
      "24. feature Fusiform_L-Temporal_Mid_L (0.020000)\n",
      "25. feature Frontal_Inf_Tri_L-Thalamus_R (0.020000)\n",
      "26. feature Cingulum_Mid_R-Hippocampus_R (0.020000)\n",
      "27. feature Precentral_R-Temporal_Inf_L (0.020000)\n",
      "28. feature Rectus_L-Putamen_R (0.020000)\n",
      "29. feature Frontal_Med_Orb_L-ParaHippocampal_R (0.020000)\n",
      "30. feature ParaHippocampal_L-Thalamus_R (0.020000)\n",
      "31. feature Precentral_R-Occipital_Mid_L (0.020000)\n",
      "32. feature Frontal_Inf_Tri_L-Frontal_Inf_Orb_L (0.020000)\n",
      "33. feature Frontal_Mid_Orb_L-Caudate_L (0.020000)\n",
      "34. feature Frontal_Sup_Orb_R-Putamen_L (0.020000)\n",
      "35. feature Amygdala_R-Fusiform_L (0.020000)\n",
      "36. feature Frontal_Mid_L-Frontal_Inf_Orb_L (0.020000)\n",
      "37. feature Lingual_R-Temporal_Pole_Sup_L (0.020000)\n",
      "38. feature Postcentral_L-Temporal_Mid_L (0.020000)\n",
      "39. feature Frontal_Sup_Orb_R-Frontal_Mid_R (0.020000)\n",
      "40. feature Frontal_Inf_Orb_R-Frontal_Sup_Medial_L (0.020000)\n",
      "41. feature Rolandic_Oper_L-Fusiform_R (0.000000)\n",
      "42. feature Rolandic_Oper_L-Pallidum_L (0.000000)\n",
      "43. feature Rolandic_Oper_L-Cuneus_R (0.000000)\n",
      "44. feature Rolandic_Oper_L-Cuneus_L (0.000000)\n",
      "45. feature Rolandic_Oper_L-Putamen_L (0.000000)\n",
      "46. feature Rolandic_Oper_L-Putamen_R (0.000000)\n",
      "47. feature Rolandic_Oper_L-Calcarine_R (0.000000)\n",
      "48. feature Rolandic_Oper_L-Calcarine_L (0.000000)\n",
      "49. feature Rolandic_Oper_L-Amygdala_R (0.000000)\n",
      "50. feature Rolandic_Oper_L-Amygdala_L (0.000000)\n"
     ]
    },
    {
     "data": {
      "image/png": "[encoded data removed]",
      "text/plain": [
       "<matplotlib.figure.Figure at 0x7f50f2edfdd0>"
      ]
     },
     "metadata": {},
     "output_type": "display_data"
    },
    {
     "name": "stdout",
     "output_type": "stream",
     "text": [
      "Normalization\n",
      "Feature ranking:\n",
      "1. feature  (0.160000)\n",
      "2. feature Postcentral_R-Angular_R (0.020000)\n",
      "3. feature Rectus_R-SupraMarginal_R (0.020000)\n",
      "4. feature Precentral_R-Calcarine_L (0.020000)\n",
      "5. feature Frontal_Sup_Orb_L-Occipital_Inf_R (0.020000)\n",
      "6. feature Rolandic_Oper_R-Frontal_Med_Orb_L (0.020000)\n",
      "7. feature Rolandic_Oper_R-Frontal_Med_Orb_R (0.020000)\n",
      "8. feature Calcarine_L-Occipital_Sup_R (0.020000)\n",
      "9. feature Calcarine_L-Occipital_Inf_L (0.020000)\n",
      "10. feature Calcarine_L-Angular_L (0.020000)\n",
      "11. feature Putamen_L-Temporal_Mid_R (0.020000)\n",
      "12. feature Lingual_L-Angular_R (0.020000)\n",
      "13. feature Frontal_Med_Orb_L-Precuneus_L (0.020000)\n",
      "14. feature Supp_Motor_Area_R-Angular_L (0.020000)\n",
      "15. feature Cingulum_Mid_R-Occipital_Mid_R (0.020000)\n",
      "16. feature Fusiform_R-Parietal_Inf_L (0.020000)\n",
      "17. feature Cuneus_R-Temporal_Sup_R (0.020000)\n",
      "18. feature Calcarine_R-Occipital_Inf_L (0.020000)\n",
      "19. feature Frontal_Sup_Orb_L-Occipital_Mid_L (0.020000)\n",
      "20. feature Cingulum_Mid_L-Lingual_R (0.020000)\n",
      "21. feature Frontal_Sup_Orb_R-Occipital_Mid_L (0.020000)\n",
      "22. feature Frontal_Sup_Medial_R-Precuneus_L (0.020000)\n",
      "23. feature Frontal_Mid_Orb_L-Angular_L (0.020000)\n",
      "24. feature Cingulum_Ant_L-Putamen_L (0.020000)\n",
      "25. feature Angular_R-Precuneus_R (0.020000)\n",
      "26. feature Angular_L-Temporal_Inf_L (0.020000)\n",
      "27. feature Cingulum_Ant_L-Temporal_Pole_Mid_L (0.020000)\n",
      "28. feature Occipital_Sup_R-Angular_R (0.020000)\n",
      "29. feature Angular_L-Paracentral_Lobule_L (0.020000)\n",
      "30. feature Frontal_Mid_Orb_R-Occipital_Inf_R (0.020000)\n",
      "31. feature Rolandic_Oper_L-Frontal_Med_Orb_L (0.020000)\n",
      "32. feature Cingulum_Ant_R-Occipital_Inf_L (0.020000)\n",
      "33. feature Cingulum_Ant_R-Fusiform_L (0.020000)\n",
      "34. feature SupraMarginal_R-Temporal_Sup_L (0.020000)\n",
      "35. feature Cingulum_Ant_R-Putamen_R (0.020000)\n",
      "36. feature Rolandic_Oper_L-Occipital_Inf_L (0.020000)\n",
      "37. feature Rolandic_Oper_L-Precuneus_L (0.020000)\n",
      "38. feature Calcarine_R-Paracentral_Lobule_R (0.020000)\n",
      "39. feature Precentral_R-Lingual_L (0.020000)\n",
      "40. feature Supp_Motor_Area_L-Cingulum_Mid_L (0.020000)\n",
      "41. feature Postcentral_L-Paracentral_Lobule_L (0.020000)\n",
      "42. feature Cuneus_R-Occipital_Sup_L (0.020000)\n",
      "43. feature Rectus_L-Parietal_Inf_R (0.020000)\n",
      "44. feature Rolandic_Oper_L-ParaHippocampal_R (0.000000)\n",
      "45. feature Rolandic_Oper_L-ParaHippocampal_L (0.000000)\n",
      "46. feature Rolandic_Oper_L-Hippocampus_R (0.000000)\n",
      "47. feature Rolandic_Oper_L-Hippocampus_L (0.000000)\n",
      "48. feature Rolandic_Oper_L-Cingulum_Post_R (0.000000)\n",
      "49. feature Rolandic_Oper_L-Cingulum_Post_L (0.000000)\n",
      "50. feature Rolandic_Oper_L-Cingulum_Mid_R (0.000000)\n"
     ]
    },
    {
     "data": {
      "image/png": "[encoded data removed]",
      "text/plain": [
       "<matplotlib.figure.Figure at 0x7f50f2a16890>"
      ]
     },
     "metadata": {},
     "output_type": "display_data"
    }
   ],
   "source": [
    "run_experiments(X, Y, feature_name_list)"
   ]
  },
  {
   "cell_type": "code",
   "execution_count": null,
   "metadata": {
    "collapsed": true
   },
   "outputs": [],
   "source": []
  }
 ],
 "metadata": {
  "kernelspec": {
   "display_name": "Python 2",
   "language": "python",
   "name": "python2"
  },
  "language_info": {
   "codemirror_mode": {
    "name": "ipython",
    "version": 2
   },
   "file_extension": ".py",
   "mimetype": "text/x-python",
   "name": "python",
   "nbconvert_exporter": "python",
   "pygments_lexer": "ipython2",
   "version": "2.7.12"
  }
 },
 "nbformat": 4,
 "nbformat_minor": 2
}
