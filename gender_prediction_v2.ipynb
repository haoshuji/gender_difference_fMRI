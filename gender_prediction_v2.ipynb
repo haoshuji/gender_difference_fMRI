{
 "cells": [
  {
   "cell_type": "code",
   "execution_count": 1,
   "metadata": {
    "collapsed": true
   },
   "outputs": [],
   "source": [
    "%matplotlib inline\n",
    "import matplotlib.pyplot as plt\n",
    "import sys\n",
    "import scipy.io as sio\n",
    "import os\n",
    "import numpy as np\n",
    "from sklearn.model_selection import cross_val_score\n",
    "from sklearn.neural_network import MLPClassifier\n",
    "from sklearn.neighbors import KNeighborsClassifier\n",
    "from sklearn.svm import SVC\n",
    "from sklearn.gaussian_process import GaussianProcessClassifier\n",
    "from sklearn.gaussian_process.kernels import RBF\n",
    "from sklearn.tree import DecisionTreeClassifier\n",
    "from sklearn.ensemble import RandomForestClassifier, AdaBoostClassifier\n",
    "from sklearn.naive_bayes import GaussianNB\n",
    "from sklearn.discriminant_analysis import QuadraticDiscriminantAnalysis\n",
    "from sklearn.pipeline import make_pipeline\n",
    "from sklearn.preprocessing import StandardScaler, RobustScaler, Normalizer\n",
    "from sklearn import preprocessing"
   ]
  },
  {
   "cell_type": "code",
   "execution_count": 2,
   "metadata": {
    "collapsed": true
   },
   "outputs": [],
   "source": [
    "clf_names = [\"Nearest Neighbors\", \n",
    "#              \"Linear SVM\", \n",
    "#              \"RBF SVM\", \n",
    "             \"Gaussian Process\",\n",
    "             \"Decision Tree\", \n",
    "             \"Random Forest\", \n",
    "             \"Neural Net\", \n",
    "             \"AdaBoost\",\n",
    "             \"Naive Bayes\", \n",
    "             \"QDA\"]\n",
    "classifiers = [\n",
    "    KNeighborsClassifier(3),\n",
    "#     SVC(kernel=\"linear\", C=0.025),\n",
    "#     SVC(gamma=2, C=1),\n",
    "    GaussianProcessClassifier(1.0 * RBF(1.0), warm_start=True),\n",
    "    DecisionTreeClassifier(max_depth=5),\n",
    "    RandomForestClassifier(max_depth=5, n_estimators=10, max_features=1),\n",
    "    MLPClassifier(alpha=1),\n",
    "    AdaBoostClassifier(),\n",
    "    GaussianNB(),\n",
    "    QuadraticDiscriminantAnalysis()]"
   ]
  },
  {
   "cell_type": "code",
   "execution_count": 3,
   "metadata": {
    "collapsed": true
   },
   "outputs": [],
   "source": [
    "def print_top_features(clf, top_k=10, feature_names = []):\n",
    "    \"\"\"Prints features with the highest coefficient values, per class\"\"\"\n",
    "#     feature_names = vectorizer.get_feature_names()\n",
    "    for i, class_label in enumerate(class_labels):\n",
    "        print clf.coef_\n",
    "        top_features_idx = np.argsort(clf.coef_[i])[-top_k:]\n",
    "        if feature_names == []:\n",
    "            print(\"{}:{}\".format(class_label, top_features_idx))\n",
    "        else:\n",
    "            print(\"%s: %s\" % (class_label,\n",
    "                  \" \".join(feature_names[j] for j in top_features_idx)))"
   ]
  },
  {
   "cell_type": "code",
   "execution_count": 4,
   "metadata": {
    "collapsed": true
   },
   "outputs": [],
   "source": [
    "def plot_important_features(features, clf, feature_name_list=[], num_selected_features=50):\n",
    "    importances = clf.feature_importances_\n",
    "    X = np.array(features)\n",
    "    std = np.std([tree.feature_importances_ for tree in clf.estimators_],\n",
    "                 axis=0)\n",
    "    indices = np.argsort(importances)[::-1]\n",
    "\n",
    "    # Print the feature ranking\n",
    "    print(\"Feature ranking:\")\n",
    "\n",
    "    for f in range(0,num_selected_features):\n",
    "        if feature_name_list == []:\n",
    "            print(\"%d, (%f)\" % (f + 1, importances[indices[f]]))\n",
    "        else:\n",
    "            print(\"%d. feature %s (%f)\" % (f + 1, feature_name_list[indices[f]], importances[indices[f]]))\n",
    "\n",
    "    # Plot the feature importances of the forest\n",
    "    plt.figure()\n",
    "    plt.title(\"Feature importances\")\n",
    "    plt.bar(range(num_selected_features), importances[indices[:num_selected_features]],\n",
    "           color=\"r\", yerr=std[indices[:num_selected_features]], align=\"center\")\n",
    "    plt.xticks(range(num_selected_features), indices[:num_selected_features])\n",
    "    plt.xlim([-1, num_selected_features])\n",
    "    plt.show()"
   ]
  },
  {
   "cell_type": "code",
   "execution_count": 5,
   "metadata": {
    "collapsed": true
   },
   "outputs": [],
   "source": [
    "def run_experiments(X, Y, feature_name_list=[], top_k=50):\n",
    "    # iterate over classifiers\n",
    "    '''\n",
    "    print('Accuracy of different classifier, without Normalization')\n",
    "    for name, clf in zip(clf_names, classifiers):\n",
    "        scores = cross_val_score(clf, X, Y, cv=5)\n",
    "        print(\"{}, {}/{}\".format(name, np.mean(scores), np.std(scores)))\n",
    "    \n",
    "    adaboost_clf = AdaBoostClassifier()\n",
    "    adaboost_clf.fit(X, Y)\n",
    "    plot_important_features(X, adaboost_clf, feature_name_list, 50)\n",
    "    '''\n",
    "    \n",
    "    print('Accuracy of different classifier, with Normalization')\n",
    "    normalization_methods_name = ['StandardScaler', 'Normalizer']#, 'RobustScaler'\n",
    "    normalization_methods = [StandardScaler(), Normalizer()]#, RobustScaler(),\n",
    "    # iterate over classifiers\n",
    "    for name, clf in zip(clf_names, classifiers):\n",
    "        print('\\n')\n",
    "        for norm_name, norm in zip(normalization_methods_name, normalization_methods):\n",
    "            scores = cross_val_score((make_pipeline(norm, clf)), X, Y, cv=5)\n",
    "            print(\"{},{}, {}/{}\".format(name, norm_name, np.mean(scores), np.std(scores)))\n",
    "    \n",
    "    print('\\nStandard Scaled AdaBoostClassifier')\n",
    "    X_scaled = preprocessing.scale(X)\n",
    "#     scaled_adaboost_clf = make_pipeline(StandardScaler(), AdaBoostClassifier())\n",
    "    clf = AdaBoostClassifier()\n",
    "    clf.fit(X_scaled, Y)\n",
    "    plot_important_features(X_scaled, clf, feature_name_list, top_k)\n",
    "    "
   ]
  },
  {
   "cell_type": "markdown",
   "metadata": {},
   "source": [
    "# prepare data into libsvm format"
   ]
  },
  {
   "cell_type": "code",
   "execution_count": 6,
   "metadata": {
    "scrolled": false
   },
   "outputs": [
    {
     "name": "stdout",
     "output_type": "stream",
     "text": [
      "###############################################\n",
      "\n",
      "Data:csv4volume.csv\n",
      "\n",
      "Accuracy of different classifier, with Normalization\n",
      "\n",
      "\n",
      "Nearest Neighbors,StandardScaler, 0.658864666354/0.0403037366574\n",
      "Nearest Neighbors,Normalizer, 0.711216596343/0.0493714448307\n",
      "\n",
      "\n",
      "Gaussian Process,StandardScaler, 0.663834583529/0.0487992787729\n",
      "Gaussian Process,Normalizer, 0.808694327239/0.0238889659066\n",
      "\n",
      "\n",
      "Decision Tree,StandardScaler, 0.709024456946/0.0292787114017\n",
      "Decision Tree,Normalizer, 0.642077668386/0.048434834024\n",
      "\n",
      "\n",
      "Random Forest,StandardScaler, 0.66470659478/0.0831524117239\n",
      "Random Forest,Normalizer, 0.661738943585/0.0169582437458\n",
      "\n",
      "\n"
     ]
    },
    {
     "name": "stderr",
     "output_type": "stream",
     "text": [
      "/usr/local/lib/python2.7/dist-packages/sklearn/neural_network/multilayer_perceptron.py:563: ConvergenceWarning: Stochastic Optimizer: Maximum iterations reached and the optimization hasn't converged yet.\n",
      "  % (), ConvergenceWarning)\n"
     ]
    },
    {
     "name": "stdout",
     "output_type": "stream",
     "text": [
      "Neural Net,StandardScaler, 0.808600171902/0.0203056800552\n",
      "Neural Net,Normalizer, 0.813600953274/0.0192211792566\n",
      "\n",
      "\n",
      "AdaBoost,StandardScaler, 0.751343959994/0.0194010079551\n",
      "AdaBoost,Normalizer, 0.699211204876/0.0423779441683\n",
      "\n",
      "\n",
      "Naive Bayes,StandardScaler, 0.778627910611/0.0314385812795\n",
      "Naive Bayes,Normalizer, 0.746124003751/0.0280569756009\n",
      "\n",
      "\n",
      "QDA,StandardScaler, 0.609327629317/0.0341378347237\n",
      "QDA,Normalizer, 0.606826847945/0.0261424956937\n",
      "\n",
      "Standard Scaled AdaBoostClassifier\n",
      "Feature ranking:\n",
      "1. feature 29 (0.060000)\n",
      "2. feature 56 (0.060000)\n",
      "3. feature 58 (0.060000)\n",
      "4. feature 57 (0.040000)\n",
      "5. feature 21 (0.040000)\n",
      "6. feature 71 (0.040000)\n",
      "7. feature 23 (0.040000)\n",
      "8. feature 18 (0.040000)\n",
      "9. feature 14 (0.040000)\n",
      "10. feature 17 (0.020000)\n",
      "11. feature 64 (0.020000)\n",
      "12. feature 44 (0.020000)\n",
      "13. feature 20 (0.020000)\n",
      "14. feature 13 (0.020000)\n",
      "15. feature 59 (0.020000)\n",
      "16. feature 55 (0.020000)\n",
      "17. feature 53 (0.020000)\n",
      "18. feature 46 (0.020000)\n",
      "19. feature 50 (0.020000)\n",
      "20. feature 49 (0.020000)\n",
      "21. feature 43 (0.020000)\n",
      "22. feature 48 (0.020000)\n",
      "23. feature 79 (0.020000)\n",
      "24. feature 38 (0.020000)\n",
      "25. feature 83 (0.020000)\n",
      "26. feature 36 (0.020000)\n",
      "27. feature 82 (0.020000)\n",
      "28. feature 81 (0.020000)\n",
      "29. feature 6 (0.020000)\n",
      "30. feature 78 (0.020000)\n",
      "31. feature 7 (0.020000)\n",
      "32. feature 76 (0.020000)\n",
      "33. feature 39 (0.020000)\n",
      "34. feature 40 (0.020000)\n",
      "35. feature 10 (0.020000)\n",
      "36. feature 11 (0.020000)\n",
      "37. feature 28 (0.020000)\n",
      "38. feature 84 (0.020000)\n",
      "39. feature 30 (0.000000)\n",
      "40. feature 25 (0.000000)\n",
      "41. feature 26 (0.000000)\n",
      "42. feature 27 (0.000000)\n",
      "43. feature 90 (0.000000)\n",
      "44. feature 19 (0.000000)\n",
      "45. feature 24 (0.000000)\n",
      "46. feature 22 (0.000000)\n",
      "47. feature 32 (0.000000)\n",
      "48. feature 16 (0.000000)\n",
      "49. feature 15 (0.000000)\n",
      "50. feature 12 (0.000000)\n"
     ]
    },
    {
     "data": {
      "image/png": "[encoded data removed]",
      "text/plain": [
       "<matplotlib.figure.Figure at 0x7f574c9e3110>"
      ]
     },
     "metadata": {},
     "output_type": "display_data"
    },
    {
     "name": "stdout",
     "output_type": "stream",
     "text": [
      "###############################################\n",
      "\n",
      "Data:csv4network.csv\n",
      "\n",
      "Accuracy of different classifier, with Normalization\n",
      "\n",
      "\n",
      "Nearest Neighbors,StandardScaler, 0.599355368026/0.0238879914302\n",
      "Nearest Neighbors,Normalizer, 0.535004297546/0.0364485951756\n",
      "\n",
      "\n",
      "Gaussian Process,StandardScaler, 0.417896155649/0.00281046506521\n",
      "Gaussian Process,Normalizer, 0.584603844351/0.00773818403305\n",
      "\n",
      "\n",
      "Decision Tree,StandardScaler, 0.716620175027/0.0229155309557\n",
      "Decision Tree,Normalizer, 0.584792155024/0.0257194264874\n",
      "\n",
      "\n",
      "Random Forest,StandardScaler, 0.751250586029/0.0219132790077\n",
      "Random Forest,Normalizer, 0.58463548992/0.0147417371988\n",
      "\n",
      "\n",
      "Neural Net,StandardScaler, 0.641892483201/0.0221915635946\n",
      "Neural Net,Normalizer, 0.619517502735/0.0605834282921\n",
      "\n",
      "\n",
      "AdaBoost,StandardScaler, 0.755970464135/0.0380282254478\n",
      "AdaBoost,Normalizer, 0.609235036724/0.0539172084943\n",
      "\n",
      "\n",
      "Naive Bayes,StandardScaler, 0.527126113455/0.0661409362453\n",
      "Naive Bayes,Normalizer, 0.554537427723/0.0574692390394\n",
      "\n",
      "\n"
     ]
    },
    {
     "name": "stderr",
     "output_type": "stream",
     "text": [
      "/usr/local/lib/python2.7/dist-packages/sklearn/discriminant_analysis.py:695: UserWarning: Variables are collinear\n",
      "  warnings.warn(\"Variables are collinear\")\n"
     ]
    },
    {
     "name": "stdout",
     "output_type": "stream",
     "text": [
      "QDA,StandardScaler, 0.477497265198/0.0345313566933\n",
      "QDA,Normalizer, 0.457433974058/0.061163526802\n",
      "\n",
      "Standard Scaled AdaBoostClassifier\n",
      "Feature ranking:\n",
      "1. feature 81-31 (0.040000)\n",
      "2. feature 23-16 (0.040000)\n",
      "3. feature 71-9 (0.040000)\n",
      "4. feature 10-8 (0.020000)\n",
      "5. feature 58-3 (0.020000)\n",
      "6. feature 85-55 (0.020000)\n",
      "7. feature 90-12 (0.020000)\n",
      "8. feature 42-9 (0.020000)\n",
      "9. feature 85-48 (0.020000)\n",
      "10. feature 67-45 (0.020000)\n",
      "11. feature 90-58 (0.020000)\n",
      "12. feature 48-41 (0.020000)\n",
      "13. feature 67-6 (0.020000)\n",
      "14. feature 89-51 (0.020000)\n",
      "15. feature 88-45 (0.020000)\n",
      "16. feature 77-75 (0.020000)\n",
      "17. feature 16-15 (0.020000)\n",
      "18. feature 51-4 (0.020000)\n",
      "19. feature 82-49 (0.020000)\n",
      "20. feature 87-20 (0.020000)\n",
      "21. feature 66-15 (0.020000)\n",
      "22. feature 89-57 (0.020000)\n",
      "23. feature 74-71 (0.020000)\n",
      "24. feature 13-9 (0.020000)\n",
      "25. feature 54-46 (0.020000)\n",
      "26. feature 56-28 (0.020000)\n",
      "27. feature 68-58 (0.020000)\n",
      "28. feature 39-6 (0.020000)\n",
      "29. feature 3-2 (0.020000)\n",
      "30. feature 66-46 (0.020000)\n",
      "31. feature 73-71 (0.020000)\n",
      "32. feature 73-14 (0.020000)\n",
      "33. feature 90-2 (0.020000)\n",
      "34. feature 68-47 (0.020000)\n",
      "35. feature 15-14 (0.020000)\n",
      "36. feature 11-8 (0.020000)\n",
      "37. feature 15-2 (0.020000)\n",
      "38. feature 74-6 (0.020000)\n",
      "39. feature 61-39 (0.020000)\n",
      "40. feature 39-38 (0.020000)\n",
      "41. feature 90-73 (0.020000)\n",
      "42. feature 68-25 (0.020000)\n",
      "43. feature 31-9 (0.020000)\n",
      "44. feature 35-9 (0.020000)\n",
      "45. feature 55-42 (0.020000)\n",
      "46. feature 58-12 (0.020000)\n",
      "47. feature 48-23 (0.020000)\n",
      "48. feature 53-6 (0.000000)\n",
      "49. feature 53-7 (0.000000)\n",
      "50. feature 90-89 (0.000000)\n"
     ]
    },
    {
     "data": {
      "image/png": "[encoded data removed]",
      "text/plain": [
       "<matplotlib.figure.Figure at 0x7f574c761f10>"
      ]
     },
     "metadata": {},
     "output_type": "display_data"
    }
   ],
   "source": [
    "import numpy as np\n",
    "import pandas as pd\n",
    "\n",
    "data_file_list = ['csv4volume.csv', 'csv4network.csv']\n",
    "data_path = \"../data/res_controlVol/\"\n",
    "for data_file in data_file_list:\n",
    "    print('###############################################\\n')\n",
    "    print('Data:{}\\n'.format(data_file))\n",
    "    # comma delimited is the default\n",
    "    df = pd.read_csv(os.path.join(data_path, data_file), header = 0)\n",
    "\n",
    "    # put the original column names in a python list\n",
    "    original_headers = list(df.columns.values)\n",
    "    feature_name_list = original_headers[1:]\n",
    "    # remove the non-numeric columns\n",
    "    df = df._get_numeric_data()\n",
    "\n",
    "    # put the numeric column names in a python list\n",
    "    numeric_headers = list(df.columns.values)\n",
    "\n",
    "    # create a numpy array with the numeric values for input into scikit-learn\n",
    "    numpy_array = np.array(df.as_matrix())\n",
    "    Y = numpy_array[:,0]\n",
    "    X = numpy_array[:,1:]\n",
    "    run_experiments(X, Y, feature_name_list)"
   ]
  },
  {
   "cell_type": "code",
   "execution_count": null,
   "metadata": {
    "collapsed": true
   },
   "outputs": [],
   "source": []
  }
 ],
 "metadata": {
  "kernelspec": {
   "display_name": "Python 2",
   "language": "python",
   "name": "python2"
  },
  "language_info": {
   "codemirror_mode": {
    "name": "ipython",
    "version": 2
   },
   "file_extension": ".py",
   "mimetype": "text/x-python",
   "name": "python",
   "nbconvert_exporter": "python",
   "pygments_lexer": "ipython2",
   "version": "2.7.12"
  }
 },
 "nbformat": 4,
 "nbformat_minor": 2
}
