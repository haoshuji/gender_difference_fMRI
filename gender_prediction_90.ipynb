{
 "cells": [
  {
   "cell_type": "code",
   "execution_count": 7,
   "metadata": {
    "collapsed": false
   },
   "outputs": [],
   "source": [
    "%matplotlib inline\n",
    "import matplotlib.pyplot as plt\n",
    "import sys\n",
    "import scipy.io as sio\n",
    "import os\n",
    "import numpy as np"
   ]
  },
  {
   "cell_type": "markdown",
   "metadata": {},
   "source": [
    "# prepare data into libsvm format"
   ]
  },
  {
   "cell_type": "code",
   "execution_count": 8,
   "metadata": {
    "collapsed": false
   },
   "outputs": [
    {
     "name": "stdout",
     "output_type": "stream",
     "text": [
      "['demo', '__version__', '__header__', '__globals__']\n"
     ]
    }
   ],
   "source": [
    "label_path = '../bev/'\n",
    "feature_path = '../5_MRI2atlas_AAL90_thr/'\n",
    "\n",
    "labels_mat = sio.loadmat(os.path.join(label_path,'demo.mat'))\n",
    "print labels_mat.keys()"
   ]
  },
  {
   "cell_type": "code",
   "execution_count": 9,
   "metadata": {
    "collapsed": false
   },
   "outputs": [
    {
     "name": "stdout",
     "output_type": "stream",
     "text": [
      "4006 Precentral_L-Precentral_R <type 'list'>\n"
     ]
    }
   ],
   "source": [
    "feature_name_file = '../aal_Conns.txt'\n",
    "feature_name_list = []\n",
    "with open(feature_name_file, 'r') as fin:\n",
    "    feature_name_list = fin.read().split(',')\n",
    "print len(feature_name_list), feature_name_list[0], type(feature_name_list)"
   ]
  },
  {
   "cell_type": "code",
   "execution_count": 10,
   "metadata": {
    "collapsed": true
   },
   "outputs": [],
   "source": [
    "class_labels = [0,1]\n",
    "feature_names = []"
   ]
  },
  {
   "cell_type": "code",
   "execution_count": 11,
   "metadata": {
    "collapsed": false
   },
   "outputs": [
    {
     "name": "stdout",
     "output_type": "stream",
     "text": [
      "(441, 4)\n",
      "20071016_02\n",
      "(1, 1)\n",
      "0\n",
      "440 440\n",
      "0 [u'20071016_02']\n"
     ]
    }
   ],
   "source": [
    "print labels_mat['demo'].shape\n",
    "print str(labels_mat['demo'][2,0][0])\n",
    "print labels_mat['demo'][3,2].shape\n",
    "print labels_mat['demo'][2,2].size\n",
    "ids_tmp = labels_mat['demo'][1:,0]\n",
    "labels_tmp = labels_mat['demo'][1:,2]\n",
    "print ids_tmp.size, labels_tmp.size\n",
    "print labels_tmp[1].size, ids_tmp[1]"
   ]
  },
  {
   "cell_type": "markdown",
   "metadata": {},
   "source": [
    "## read person id and its label"
   ]
  },
  {
   "cell_type": "code",
   "execution_count": 13,
   "metadata": {
    "collapsed": false
   },
   "outputs": [
    {
     "name": "stdout",
     "output_type": "stream",
     "text": [
      "Total:418, Male:179, Female:239\n"
     ]
    }
   ],
   "source": [
    "labels_dict = {}\n",
    "num_positive = 0\n",
    "num_negative = 0\n",
    "for i in range(ids_tmp.size):\n",
    "    # label of this person is not provided\n",
    "    if labels_tmp[i].size == 0:\n",
    "        continue\n",
    "    label_tmp = 0 if int(labels_tmp[i]) == 2 else 1\n",
    "    if label_tmp == 0:\n",
    "        num_negative += 1\n",
    "    else:\n",
    "        num_positive += 1\n",
    "    labels_dict[str(ids_tmp[i][0])] = label_tmp\n",
    "print(\"Total:{}, Male:{}, Female:{}\".format(num_negative+num_positive, num_positive, num_negative))    "
   ]
  },
  {
   "cell_type": "markdown",
   "metadata": {},
   "source": [
    "## Read the features"
   ]
  },
  {
   "cell_type": "code",
   "execution_count": 14,
   "metadata": {
    "collapsed": false
   },
   "outputs": [
    {
     "name": "stdout",
     "output_type": "stream",
     "text": [
      "20080908_04  is not in  ../5_MRI2atlas_AAL90_thr/\n",
      "20081113_14  is not in  ../5_MRI2atlas_AAL90_thr/\n",
      "20081128_11  is not in  ../5_MRI2atlas_AAL90_thr/\n",
      "20080917_02  is not in  ../5_MRI2atlas_AAL90_thr/\n",
      "20081119_12  is not in  ../5_MRI2atlas_AAL90_thr/\n",
      "20081107_08  is not in  ../5_MRI2atlas_AAL90_thr/\n",
      "20081210_13  is not in  ../5_MRI2atlas_AAL90_thr/\n",
      "20081203_11  is not in  ../5_MRI2atlas_AAL90_thr/\n",
      "20081118_04  is not in  ../5_MRI2atlas_AAL90_thr/\n",
      "20081110_09  is not in  ../5_MRI2atlas_AAL90_thr/\n",
      "20081114_08  is not in  ../5_MRI2atlas_AAL90_thr/\n",
      "20081210_07  is not in  ../5_MRI2atlas_AAL90_thr/\n",
      "20081126_02  is not in  ../5_MRI2atlas_AAL90_thr/\n",
      "20080613_05  is not in  ../5_MRI2atlas_AAL90_thr/\n",
      "20080613_06  is not in  ../5_MRI2atlas_AAL90_thr/\n",
      "20081127_12  is not in  ../5_MRI2atlas_AAL90_thr/\n",
      "n:402, d:4005\n"
     ]
    }
   ],
   "source": [
    "features = []\n",
    "labels = []\n",
    "for key in labels_dict:\n",
    "    if os.path.isfile(os.path.join(feature_path, key+'.mat')):\n",
    "        # Load feature mat file\n",
    "        key_mat = sio.loadmat(os.path.join(feature_path, key+'.mat'))\n",
    "        n,n = key_mat['Wauc'].shape\n",
    "        # indices for upper matrix items without the diagonal items         \n",
    "        upper_item_idx = np.triu_indices(n,1)\n",
    "#         features.append(np.triu(key_mat['Wauc']).flatten().tolist())\n",
    "        features.append(key_mat['Wauc'][upper_item_idx].tolist())\n",
    "        labels.append(labels_dict[key])\n",
    "    else:\n",
    "        print key, ' is not in ', feature_path\n",
    "print(\"n:{}, d:{}\".format(len(features), len(features[0])))\n",
    "        "
   ]
  },
  {
   "cell_type": "code",
   "execution_count": 15,
   "metadata": {
    "collapsed": true
   },
   "outputs": [],
   "source": [
    "def print_top_features(clf, top_k=10):\n",
    "    \"\"\"Prints features with the highest coefficient values, per class\"\"\"\n",
    "#     feature_names = vectorizer.get_feature_names()\n",
    "    for i, class_label in enumerate(class_labels):\n",
    "        print clf.coef_\n",
    "        top_features_idx = np.argsort(clf.coef_[i])[-top_k:]\n",
    "        if feature_names == []:\n",
    "            print(\"{}:{}\".format(class_label, top_features_idx))\n",
    "        else:\n",
    "            print(\"%s: %s\" % (class_label,\n",
    "                  \" \".join(feature_names[j] for j in top_features_idx)))"
   ]
  },
  {
   "cell_type": "code",
   "execution_count": 16,
   "metadata": {
    "collapsed": true
   },
   "outputs": [],
   "source": [
    "from sklearn.model_selection import cross_val_score\n",
    "from sklearn.neural_network import MLPClassifier\n",
    "from sklearn.neighbors import KNeighborsClassifier\n",
    "from sklearn.svm import SVC\n",
    "from sklearn.gaussian_process import GaussianProcessClassifier\n",
    "from sklearn.gaussian_process.kernels import RBF\n",
    "from sklearn.tree import DecisionTreeClassifier\n",
    "from sklearn.ensemble import RandomForestClassifier, AdaBoostClassifier\n",
    "from sklearn.naive_bayes import GaussianNB\n",
    "from sklearn.discriminant_analysis import QuadraticDiscriminantAnalysis"
   ]
  },
  {
   "cell_type": "code",
   "execution_count": 17,
   "metadata": {
    "collapsed": true
   },
   "outputs": [],
   "source": [
    "names = [\"Nearest Neighbors\", \"Linear SVM\", \"RBF SVM\", \"Gaussian Process\",\n",
    "         \"Decision Tree\", \"Random Forest\", \"Neural Net\", \"AdaBoost\",\n",
    "         \"Naive Bayes\", \"QDA\"]\n",
    "\n",
    "classifiers = [\n",
    "    KNeighborsClassifier(3),\n",
    "    SVC(kernel=\"linear\", C=0.025),\n",
    "    SVC(gamma=2, C=1),\n",
    "    GaussianProcessClassifier(1.0 * RBF(1.0), warm_start=True),\n",
    "    DecisionTreeClassifier(max_depth=5),\n",
    "    RandomForestClassifier(max_depth=5, n_estimators=10, max_features=1),\n",
    "    MLPClassifier(alpha=1),\n",
    "    AdaBoostClassifier(),\n",
    "    GaussianNB(),\n",
    "    QuadraticDiscriminantAnalysis()]"
   ]
  },
  {
   "cell_type": "code",
   "execution_count": 18,
   "metadata": {
    "collapsed": false
   },
   "outputs": [
    {
     "name": "stdout",
     "output_type": "stream",
     "text": [
      "Nearest Neighbors, 0.582137834037/0.0521829368399\n",
      "Linear SVM, 0.582103844351/0.00281046506521\n",
      "RBF SVM, 0.594511251758/0.0125627312552\n",
      "Gaussian Process, 0.582103844351/0.00281046506521\n",
      "Decision Tree, 0.602231208001/0.0312159473933\n",
      "Random Forest, 0.562289810908/0.030153034214\n",
      "Neural Net, 0.594479606188/0.0293381954356\n",
      "AdaBoost, 0.647172605095/0.0484604475855\n",
      "Naive Bayes, 0.569350679794/0.0594274344346"
     ]
    },
    {
     "name": "stderr",
     "output_type": "stream",
     "text": [
      "/Library/Python/2.7/site-packages/sklearn/neural_network/multilayer_perceptron.py:563: ConvergenceWarning: Stochastic Optimizer: Maximum iterations reached and the optimization hasn't converged yet.\n",
      "  % (), ConvergenceWarning)\n",
      "/Library/Python/2.7/site-packages/sklearn/discriminant_analysis.py:695: UserWarning: Variables are collinear\n",
      "  warnings.warn(\"Variables are collinear\")\n"
     ]
    },
    {
     "name": "stdout",
     "output_type": "stream",
     "text": [
      "\n",
      "QDA, 0.494658540397/0.0719858950252\n"
     ]
    }
   ],
   "source": [
    "# iterate over classifiers\n",
    "for name, clf in zip(names, classifiers):\n",
    "    scores = cross_val_score(clf, features, labels, cv=5)\n",
    "#     if hasattr(clf, 'coef_'):\n",
    "    print(\"{}, {}/{}\".format(name, np.mean(scores), np.std(scores)))\n",
    "#     if name not in [\"Nearest Neighbors\",  \"Linear SVM\", \"RBF SVM\",\"Gaussian Process\", \"Neural Net\"]:\n",
    "#         print_top_features(clf)"
   ]
  },
  {
   "cell_type": "code",
   "execution_count": 19,
   "metadata": {
    "collapsed": false
   },
   "outputs": [
    {
     "name": "stdout",
     "output_type": "stream",
     "text": [
      "feature max:  0.292096591372  min:  0.0\n"
     ]
    }
   ],
   "source": [
    "print 'feature max: ', np.max(features), ' min: ', np.min(features)"
   ]
  },
  {
   "cell_type": "code",
   "execution_count": 22,
   "metadata": {
    "collapsed": false
   },
   "outputs": [],
   "source": [
    "def plot_important_features(features, clf, num_selected_features=50):\n",
    "    importances = adaboost_clf.feature_importances_\n",
    "    X = np.array(features)\n",
    "    std = np.std([tree.feature_importances_ for tree in adaboost_clf.estimators_],\n",
    "                 axis=0)\n",
    "    indices = np.argsort(importances)[::-1]\n",
    "\n",
    "    # Print the feature ranking\n",
    "    print(\"Feature ranking:\")\n",
    "\n",
    "    for f in range(0,num_selected_features):\n",
    "        print(\"%d. feature %s (%f)\" % (f + 1, feature_name_list[indices[f]], importances[indices[f]]))\n",
    "\n",
    "    # Plot the feature importances of the forest\n",
    "    plt.figure()\n",
    "    plt.title(\"Feature importances\")\n",
    "    plt.bar(range(num_selected_features), importances[indices[:num_selected_features]],\n",
    "           color=\"r\", yerr=std[indices[:num_selected_features]], align=\"center\")\n",
    "    plt.xticks(range(num_selected_features), indices[:num_selected_features])\n",
    "    plt.xlim([-1, num_selected_features])\n",
    "    plt.show()"
   ]
  },
  {
   "cell_type": "code",
   "execution_count": 23,
   "metadata": {
    "collapsed": false
   },
   "outputs": [
    {
     "name": "stdout",
     "output_type": "stream",
     "text": [
      "Feature ranking:\n",
      "1. feature Pallidum_L-Thalamus_L (0.060000)\n",
      "2. feature Cingulum_Ant_L-Lingual_R (0.020000)\n",
      "3. feature Frontal_Inf_Orb_L-Occipital_Inf_L (0.020000)\n",
      "4. feature Hippocampus_R-Putamen_R (0.020000)\n",
      "5. feature Thalamus_L-Thalamus_R (0.020000)\n",
      "6. feature Hippocampus_R-Pallidum_L (0.020000)\n",
      "7. feature Cingulum_Mid_R-ParaHippocampal_R (0.020000)\n",
      "8. feature Lingual_L-Occipital_Sup_R (0.020000)\n",
      "9. feature Frontal_Inf_Oper_L-Temporal_Inf_L (0.020000)\n",
      "10. feature Amygdala_R-Fusiform_L (0.020000)\n",
      "11. feature Lingual_L-Precuneus_R (0.020000)\n",
      "12. feature Frontal_Inf_Orb_L-Parietal_Sup_L (0.020000)\n",
      "13. feature Fusiform_R-Angular_R (0.020000)\n",
      "14. feature Fusiform_R-Temporal_Sup_L (0.020000)\n",
      "15. feature Occipital_Sup_R-Paracentral_Lobule_L (0.020000)\n",
      "16. feature Calcarine_R-Postcentral_L (0.020000)\n",
      "17. feature Precentral_L-Calcarine_L (0.020000)\n",
      "18. feature Precuneus_R-Thalamus_R (0.020000)\n",
      "19. feature Insula_L-Temporal_Sup_R (0.020000)\n",
      "20. feature Occipital_Sup_L-SupraMarginal_L (0.020000)\n",
      "21. feature Frontal_Sup_Medial_L-Occipital_Sup_R (0.020000)\n",
      "22. feature Putamen_R-Temporal_Mid_L (0.020000)\n",
      "23. feature Hippocampus_R-ParaHippocampal_L (0.020000)\n",
      "24. feature Occipital_Inf_R-Caudate_R (0.020000)\n",
      "25. feature Hippocampus_L-Caudate_L (0.020000)\n",
      "26. feature Caudate_R-Thalamus_R (0.020000)\n",
      "27. feature Caudate_R-Pallidum_L (0.020000)\n",
      "28. feature Lingual_L-Temporal_Inf_L (0.020000)\n",
      "29. feature Frontal_Sup_Orb_L-Postcentral_L (0.020000)\n",
      "30. feature Caudate_L-Putamen_L (0.020000)\n",
      "31. feature Putamen_R-Temporal_Inf_R (0.020000)\n",
      "32. feature Pallidum_L-Pallidum_R (0.020000)\n",
      "33. feature Cingulum_Ant_R-Putamen_R (0.020000)\n",
      "34. feature Precentral_R-Temporal_Inf_R (0.020000)\n",
      "35. feature Frontal_Mid_R-Frontal_Mid_Orb_R (0.020000)\n",
      "36. feature Caudate_L-Putamen_R (0.020000)\n",
      "37. feature Temporal_Sup_L-Temporal_Mid_R (0.020000)\n",
      "38. feature Supp_Motor_Area_R-Occipital_Mid_L (0.020000)\n",
      "39. feature Cuneus_L-Occipital_Mid_R (0.020000)\n",
      "40. feature Frontal_Sup_R-Frontal_Mid_R (0.020000)\n",
      "41. feature Frontal_Inf_Tri_L-Hippocampus_L (0.020000)\n",
      "42. feature Frontal_Inf_Oper_R-Temporal_Mid_R (0.020000)\n",
      "43. feature Frontal_Sup_R-Frontal_Inf_Tri_L (0.020000)\n",
      "44. feature Frontal_Med_Orb_R-Fusiform_L (0.020000)\n",
      "45. feature Precuneus_L-Precuneus_R (0.020000)\n",
      "46. feature Postcentral_L-Temporal_Mid_L (0.020000)\n",
      "47. feature Frontal_Inf_Orb_R-Frontal_Sup_Medial_L (0.020000)\n",
      "48. feature Frontal_Mid_Orb_L-Temporal_Inf_L (0.020000)\n",
      "49. feature Rolandic_Oper_L-Amygdala_L (0.000000)\n",
      "50. feature Frontal_Inf_Orb_R-Calcarine_R (0.000000)\n"
     ]
    },
    {
     "data": {
      "image/png": "[encoded data removed]",
      "text/plain": [
       "<matplotlib.figure.Figure at 0x1045ec510>"
      ]
     },
     "metadata": {},
     "output_type": "display_data"
    }
   ],
   "source": [
    "\n",
    "adaboost_clf = AdaBoostClassifier()\n",
    "adaboost_clf.fit(features, labels)\n",
    "plot_important_features(features, adaboost_clf, 50)"
   ]
  },
  {
   "cell_type": "markdown",
   "metadata": {},
   "source": [
    "## scale the feature and evaluate the performance of each classifier"
   ]
  },
  {
   "cell_type": "code",
   "execution_count": 24,
   "metadata": {
    "collapsed": false
   },
   "outputs": [
    {
     "name": "stdout",
     "output_type": "stream",
     "text": [
      "Nearest Neighbors, 0.584447179247/0.0325339017845\n",
      "Linear SVM, 0.601730348492/0.0562679508493\n",
      "RBF SVM, 0.582103844351/0.00281046506521\n",
      "Gaussian Process, 0.582103844351/0.00281046506521\n",
      "Decision Tree, 0.6765537584/0.0755054855802\n",
      "Random Forest, 0.594387013596/0.0342698579048\n",
      "Neural Net, 0.61879590561/0.0677481905554\n",
      "AdaBoost, 0.71127519925/0.0325469042521\n",
      "Naive Bayes, 0.529379199875/0.057575945213\n",
      "QDA, 0.499968745116/0.0123614546275\n"
     ]
    }
   ],
   "source": [
    "from sklearn.pipeline import make_pipeline\n",
    "from sklearn.preprocessing import StandardScaler\n",
    "# iterate over classifiers\n",
    "for name, clf in zip(names, classifiers):\n",
    "    scores = cross_val_score((make_pipeline(StandardScaler(), clf)), features, labels, cv=5)\n",
    "    print(\"{}, {}/{}\".format(name, np.mean(scores), np.std(scores)))\n",
    "#     if name not in [\"Nearest Neighbors\"]:\n",
    "#         print_top_features(clf)"
   ]
  },
  {
   "cell_type": "code",
   "execution_count": 25,
   "metadata": {
    "collapsed": false
   },
   "outputs": [
    {
     "name": "stdout",
     "output_type": "stream",
     "text": [
      "Feature ranking:\n",
      "1. feature Pallidum_L-Thalamus_L (0.060000)\n",
      "2. feature Cingulum_Ant_L-Lingual_R (0.020000)\n",
      "3. feature Frontal_Inf_Orb_L-Occipital_Inf_L (0.020000)\n",
      "4. feature Hippocampus_R-Putamen_R (0.020000)\n",
      "5. feature Thalamus_L-Thalamus_R (0.020000)\n",
      "6. feature Hippocampus_R-Pallidum_L (0.020000)\n",
      "7. feature Cingulum_Mid_R-ParaHippocampal_R (0.020000)\n",
      "8. feature Lingual_L-Occipital_Sup_R (0.020000)\n",
      "9. feature Frontal_Inf_Oper_L-Temporal_Inf_L (0.020000)\n",
      "10. feature Amygdala_R-Fusiform_L (0.020000)\n",
      "11. feature Lingual_L-Precuneus_R (0.020000)\n",
      "12. feature Frontal_Inf_Orb_L-Parietal_Sup_L (0.020000)\n",
      "13. feature Fusiform_R-Angular_R (0.020000)\n",
      "14. feature Fusiform_R-Temporal_Sup_L (0.020000)\n",
      "15. feature Occipital_Sup_R-Paracentral_Lobule_L (0.020000)\n",
      "16. feature Calcarine_R-Postcentral_L (0.020000)\n",
      "17. feature Precentral_L-Calcarine_L (0.020000)\n",
      "18. feature Precuneus_R-Thalamus_R (0.020000)\n",
      "19. feature Insula_L-Temporal_Sup_R (0.020000)\n",
      "20. feature Occipital_Sup_L-SupraMarginal_L (0.020000)\n",
      "21. feature Frontal_Sup_Medial_L-Occipital_Sup_R (0.020000)\n",
      "22. feature Putamen_R-Temporal_Mid_L (0.020000)\n",
      "23. feature Hippocampus_R-ParaHippocampal_L (0.020000)\n",
      "24. feature Occipital_Inf_R-Caudate_R (0.020000)\n",
      "25. feature Hippocampus_L-Caudate_L (0.020000)\n",
      "26. feature Caudate_R-Thalamus_R (0.020000)\n",
      "27. feature Caudate_R-Pallidum_L (0.020000)\n",
      "28. feature Lingual_L-Temporal_Inf_L (0.020000)\n",
      "29. feature Frontal_Sup_Orb_L-Postcentral_L (0.020000)\n",
      "30. feature Caudate_L-Putamen_L (0.020000)\n",
      "31. feature Putamen_R-Temporal_Inf_R (0.020000)\n",
      "32. feature Pallidum_L-Pallidum_R (0.020000)\n",
      "33. feature Cingulum_Ant_R-Putamen_R (0.020000)\n",
      "34. feature Precentral_R-Temporal_Inf_R (0.020000)\n",
      "35. feature Frontal_Mid_R-Frontal_Mid_Orb_R (0.020000)\n",
      "36. feature Caudate_L-Putamen_R (0.020000)\n",
      "37. feature Temporal_Sup_L-Temporal_Mid_R (0.020000)\n",
      "38. feature Supp_Motor_Area_R-Occipital_Mid_L (0.020000)\n",
      "39. feature Cuneus_L-Occipital_Mid_R (0.020000)\n",
      "40. feature Frontal_Sup_R-Frontal_Mid_R (0.020000)\n",
      "41. feature Frontal_Inf_Tri_L-Hippocampus_L (0.020000)\n",
      "42. feature Frontal_Inf_Oper_R-Temporal_Mid_R (0.020000)\n",
      "43. feature Frontal_Sup_R-Frontal_Inf_Tri_L (0.020000)\n",
      "44. feature Frontal_Med_Orb_R-Fusiform_L (0.020000)\n",
      "45. feature Precuneus_L-Precuneus_R (0.020000)\n",
      "46. feature Postcentral_L-Temporal_Mid_L (0.020000)\n",
      "47. feature Frontal_Inf_Orb_R-Frontal_Sup_Medial_L (0.020000)\n",
      "48. feature Frontal_Mid_Orb_L-Temporal_Inf_L (0.020000)\n",
      "49. feature Rolandic_Oper_L-Amygdala_L (0.000000)\n",
      "50. feature Frontal_Inf_Orb_R-Calcarine_R (0.000000)\n"
     ]
    },
    {
     "data": {
      "image/png": "[encoded data removed]",
      "text/plain": [
       "<matplotlib.figure.Figure at 0x105dd2ad0>"
      ]
     },
     "metadata": {},
     "output_type": "display_data"
    }
   ],
   "source": [
    "scaled_adaboost_clf = make_pipeline(StandardScaler(), AdaBoostClassifier())\n",
    "scaled_adaboost_clf.fit(features, labels)\n",
    "plot_important_features(features, scaled_adaboost_clf)"
   ]
  },
  {
   "cell_type": "code",
   "execution_count": null,
   "metadata": {
    "collapsed": true
   },
   "outputs": [],
   "source": []
  }
 ],
 "metadata": {
  "kernelspec": {
   "display_name": "Python 2",
   "language": "python",
   "name": "python2"
  },
  "language_info": {
   "codemirror_mode": {
    "name": "ipython",
    "version": 2
   },
   "file_extension": ".py",
   "mimetype": "text/x-python",
   "name": "python",
   "nbconvert_exporter": "python",
   "pygments_lexer": "ipython2",
   "version": "2.7.12"
  }
 },
 "nbformat": 4,
 "nbformat_minor": 2
}
