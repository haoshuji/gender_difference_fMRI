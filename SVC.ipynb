{
 "cells": [
  {
   "cell_type": "code",
   "execution_count": 1,
   "metadata": {},
   "outputs": [],
   "source": [
    "# %matplotlib inline\n",
    "# import matplotlib.pyplot as plt\n",
    "from sklearn.model_selection import LeaveOneOut\n",
    "from sklearn.svm import SVC"
   ]
  },
  {
   "cell_type": "code",
   "execution_count": 2,
   "metadata": {},
   "outputs": [
    {
     "name": "stdout",
     "output_type": "stream",
     "text": [
      "###############################################\n",
      "\n",
      "Data:csv4verIQ_nanNetwork\n",
      "\n",
      "X: (394, 36) Y: (394,)\n",
      "###############################################\n",
      "\n",
      "Data:csv4verIQ_maleNetwork\n",
      "\n",
      "X: (394, 4) Y: (394,)\n",
      "###############################################\n",
      "\n",
      "Data:csv4verIQ_genderNetwork\n",
      "\n",
      "X: (394, 11) Y: (394,)\n",
      "###############################################\n",
      "\n",
      "Data:csv4verIQ_femaleNetwork\n",
      "\n",
      "X: (394, 7) Y: (394,)\n",
      "###############################################\n",
      "\n",
      "Data:csv4perIQ_nanNetwork\n",
      "\n",
      "X: (394, 36) Y: (394,)\n",
      "###############################################\n",
      "\n",
      "Data:csv4perIQ_maleNetwork\n",
      "\n",
      "X: (394, 4) Y: (394,)\n",
      "###############################################\n",
      "\n",
      "Data:csv4perIQ_genderNetwork\n",
      "\n",
      "X: (394, 11) Y: (394,)\n",
      "###############################################\n",
      "\n",
      "Data:csv4perIQ_femaleNetwork\n",
      "\n",
      "X: (394, 7) Y: (394,)\n"
     ]
    }
   ],
   "source": [
    "import numpy as np\n",
    "import pandas as pd\n",
    "import os\n",
    "from sklearn.preprocessing import StandardScaler\n",
    "\n",
    "data_file_list = ['csv4verIQ_nanNetwork', 'csv4verIQ_maleNetwork', 'csv4verIQ_genderNetwork', \n",
    "                  'csv4verIQ_femaleNetwork','csv4perIQ_nanNetwork','csv4perIQ_maleNetwork',\n",
    "                  'csv4perIQ_genderNetwork', 'csv4perIQ_femaleNetwork']\n",
    "data_path = \"../data/data4SVR_IQs/\"\n",
    "for data_file in data_file_list:\n",
    "    print('###############################################\\n')\n",
    "    print('Data:{}\\n'.format(data_file))\n",
    "    # comma delimited is the default\n",
    "    df = pd.read_csv(os.path.join(data_path, data_file + '.csv'), header = 0)\n",
    "\n",
    "    # put the original column names in a python list\n",
    "    original_headers = list(df.columns.values)\n",
    "    feature_name_list = original_headers[1:]\n",
    "    # remove the non-numeric columns\n",
    "    df = df._get_numeric_data()\n",
    "\n",
    "    # put the numeric column names in a python list\n",
    "    numeric_headers = list(df.columns.values)\n",
    "\n",
    "    # create a numpy array with the numeric values for input into scikit-learn\n",
    "    numpy_array = np.array(df.as_matrix())\n",
    "    Y = numpy_array[:,0]\n",
    "    X = numpy_array[:,1:]\n",
    "    print 'X:', X.shape, 'Y:', Y.shape\n",
    "    scaler = StandardScaler()\n",
    "    scaler.fit(X)\n",
    "    X = scaler.transform(X)\n",
    "    \n",
    "    Y_both = []\n",
    "    loo = LeaveOneOut()\n",
    "    loo.get_n_splits(X)\n",
    "    for train_index, test_index in loo.split(X):\n",
    "#         print(str(test_index))\n",
    "        clf = SVC()\n",
    "        clf.fit(X[train_index,:], Y[train_index])\n",
    "        Y_both.append([Y[test_index][0], clf.predict(X[test_index,:])[0]])\n",
    "    import csv\n",
    "\n",
    "    with open(os.path.join(data_path, data_file+'_pred.csv'), 'wb') as myfile:\n",
    "        myfile.write('True_Y, Predicted_Y\\n')\n",
    "        for each in Y_both:\n",
    "            myfile.write('{},{}\\n'.format(each[0], each[1]))\n",
    "        '''\n",
    "        wr = csv.writer(myfile)\n",
    "        wr.writerow([\"True Y\", \"Predicted Y\"])\n",
    "        wr.writerow(Y_both)\n",
    "        '''"
   ]
  },
  {
   "cell_type": "code",
   "execution_count": null,
   "metadata": {},
   "outputs": [],
   "source": []
  },
  {
   "cell_type": "code",
   "execution_count": null,
   "metadata": {},
   "outputs": [],
   "source": []
  }
 ],
 "metadata": {
  "kernelspec": {
   "display_name": "Python 2",
   "language": "python",
   "name": "python2"
  },
  "language_info": {
   "codemirror_mode": {
    "name": "ipython",
    "version": 2
   },
   "file_extension": ".py",
   "mimetype": "text/x-python",
   "name": "python",
   "nbconvert_exporter": "python",
   "pygments_lexer": "ipython2",
   "version": "2.7.14"
  }
 },
 "nbformat": 4,
 "nbformat_minor": 2
}
